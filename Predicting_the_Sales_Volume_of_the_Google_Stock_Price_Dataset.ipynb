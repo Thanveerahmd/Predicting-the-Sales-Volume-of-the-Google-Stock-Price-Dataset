{
  "nbformat": 4,
  "nbformat_minor": 0,
  "metadata": {
    "colab": {
      "name": "Predicting the Sales Volume of the Google Stock Price Dataset.ipynb",
      "provenance": [],
      "collapsed_sections": [
        "ir9zwETrfbrp",
        "nQ47JAxrgmaL",
        "rG1jazfGiHS_",
        "kt3Ba7YHj1x9",
        "okCMREaCIiyI",
        "_aWCyoD8eIl3",
        "wt-NXyohhGaA"
      ],
      "toc_visible": true
    },
    "kernelspec": {
      "name": "python3",
      "display_name": "Python 3"
    }
  },
  "cells": [
    {
      "cell_type": "markdown",
      "metadata": {
        "id": "xpAuMVCwfWs8"
      },
      "source": [
        "# **Predicting the Sales Volume of the Google Stock Price Dataset**"
      ]
    },
    {
      "cell_type": "markdown",
      "metadata": {
        "id": "nxJfRe4bfYVA"
      },
      "source": [
        "## **Data Preprocessing**"
      ]
    },
    {
      "cell_type": "markdown",
      "metadata": {
        "id": "ir9zwETrfbrp"
      },
      "source": [
        "### **Importing the libraries**"
      ]
    },
    {
      "cell_type": "code",
      "metadata": {
        "id": "ZT1f24vHffuf"
      },
      "source": [
        "import numpy as np\n",
        "import matplotlib.pyplot as plt\n",
        "import pandas as pd"
      ],
      "execution_count": null,
      "outputs": []
    },
    {
      "cell_type": "markdown",
      "metadata": {
        "id": "nQ47JAxrgmaL"
      },
      "source": [
        "### **Importing the Dataset set**"
      ]
    },
    {
      "cell_type": "code",
      "metadata": {
        "id": "RWUAB59bW-jx",
        "colab": {
          "base_uri": "https://localhost:8080/"
        },
        "outputId": "4be2dcfc-2780-421c-82f2-86b956580399"
      },
      "source": [
        "from google.colab import drive\n",
        "drive.mount(\"/content/gdrive\")"
      ],
      "execution_count": null,
      "outputs": [
        {
          "output_type": "stream",
          "name": "stdout",
          "text": [
            "Mounted at /content/gdrive\n"
          ]
        }
      ]
    },
    {
      "cell_type": "code",
      "metadata": {
        "id": "6l4XnEcgXEUb",
        "colab": {
          "base_uri": "https://localhost:8080/"
        },
        "outputId": "2bee1a75-e3ab-444a-8812-a50c20ff89ca"
      },
      "source": [
        "import pandas as pd\n",
        "dataset = pd.read_csv('/content/gdrive/My Drive/Colab Notebooks/data/Google_Stock_Price.csv', header=0, index_col=0,  sep=',' , thousands=',',parse_dates = True)\n",
        "print(dataset.head(10))"
      ],
      "execution_count": null,
      "outputs": [
        {
          "output_type": "stream",
          "name": "stdout",
          "text": [
            "              Open    High     Low   Close    Volume\n",
            "Date                                                \n",
            "2012-01-03  325.25  332.83  324.97  663.59   7380500\n",
            "2012-01-04  331.27  333.87  329.08  666.45   5749400\n",
            "2012-01-05  329.83  330.75  326.89  657.21   6590300\n",
            "2012-01-06  328.34  328.77  323.68  648.24   5405900\n",
            "2012-01-09  322.04  322.29  309.46  620.76  11688800\n",
            "2012-01-10  313.70  315.72  307.30  621.43   8824000\n",
            "2012-01-11  310.59  313.52  309.40  624.25   4817800\n",
            "2012-01-12  314.43  315.26  312.08  627.92   3764400\n",
            "2012-01-13  311.96  312.30  309.37  623.28   4631800\n",
            "2012-01-17  314.81  314.81  311.67  626.86   3832800\n"
          ]
        }
      ]
    },
    {
      "cell_type": "markdown",
      "metadata": {
        "id": "rG1jazfGiHS_"
      },
      "source": [
        "### **Handling/Checking for Missing Values**"
      ]
    },
    {
      "cell_type": "code",
      "metadata": {
        "colab": {
          "base_uri": "https://localhost:8080/"
        },
        "id": "KPf7SjoZiGme",
        "outputId": "d31969c0-abb4-4275-dd01-b2d02d4efd5b"
      },
      "source": [
        "dataset.info()"
      ],
      "execution_count": null,
      "outputs": [
        {
          "output_type": "stream",
          "name": "stdout",
          "text": [
            "<class 'pandas.core.frame.DataFrame'>\n",
            "DatetimeIndex: 1258 entries, 2012-01-03 to 2016-12-30\n",
            "Data columns (total 5 columns):\n",
            " #   Column  Non-Null Count  Dtype  \n",
            "---  ------  --------------  -----  \n",
            " 0   Open    1258 non-null   float64\n",
            " 1   High    1258 non-null   float64\n",
            " 2   Low     1258 non-null   float64\n",
            " 3   Close   1258 non-null   float64\n",
            " 4   Volume  1258 non-null   int64  \n",
            "dtypes: float64(4), int64(1)\n",
            "memory usage: 59.0 KB\n"
          ]
        }
      ]
    },
    {
      "cell_type": "code",
      "metadata": {
        "colab": {
          "base_uri": "https://localhost:8080/"
        },
        "id": "8An9MDr4idNc",
        "outputId": "d80325ca-ad98-4c24-f540-311a4c7730f9"
      },
      "source": [
        "print(\"Number of rows in Google_Stock_Price dataset = {rows} \".format(rows = len(dataset)))"
      ],
      "execution_count": null,
      "outputs": [
        {
          "output_type": "stream",
          "name": "stdout",
          "text": [
            "Number of rows in Google_Stock_Price dataset = 1258 \n"
          ]
        }
      ]
    },
    {
      "cell_type": "markdown",
      "metadata": {
        "id": "hdUognXTisyt"
      },
      "source": [
        "**Checking for Missing Values**"
      ]
    },
    {
      "cell_type": "code",
      "metadata": {
        "colab": {
          "base_uri": "https://localhost:8080/"
        },
        "id": "KT1k24jqim_G",
        "outputId": "7ec49979-7c54-432c-ee91-a47cf6584a34"
      },
      "source": [
        "missing_values = dataset.isnull().mean()*100\n",
        "missing_values.sum()"
      ],
      "execution_count": null,
      "outputs": [
        {
          "output_type": "execute_result",
          "data": {
            "text/plain": [
              "0.0"
            ]
          },
          "metadata": {},
          "execution_count": 7
        }
      ]
    },
    {
      "cell_type": "markdown",
      "metadata": {
        "id": "HsNIneUnizcn"
      },
      "source": [
        "**Note :** In Google_Stock_Price dataset there are 1258  rows and all are not null and the percentage of missing values for each column is 0.0 Therefore there are no missing values in Google_Stock_Price dataset ."
      ]
    },
    {
      "cell_type": "markdown",
      "metadata": {
        "id": "6h70MS1mjdP1"
      },
      "source": [
        "**Checking for Duplicate rows**"
      ]
    },
    {
      "cell_type": "code",
      "metadata": {
        "colab": {
          "base_uri": "https://localhost:8080/"
        },
        "id": "wbG4GmeljbSH",
        "outputId": "0610c667-7f0b-422c-b408-f5d25d3595c9"
      },
      "source": [
        "isDuplicate = dataset.duplicated().any()\n",
        "if isDuplicate :\n",
        "  print(\"Is there any duplicate value present in Google_Stock_Price dataset : YES\")\n",
        "else :\n",
        " print(\"Is there any duplicate value present in Google_Stock_Price dataset : NO\")"
      ],
      "execution_count": null,
      "outputs": [
        {
          "output_type": "stream",
          "name": "stdout",
          "text": [
            "Is there any duplicate value present in Google_Stock_Price dataset : NO\n"
          ]
        }
      ]
    },
    {
      "cell_type": "markdown",
      "metadata": {
        "id": "kt3Ba7YHj1x9"
      },
      "source": [
        "### **Handling /Checking Outliers**"
      ]
    },
    {
      "cell_type": "code",
      "metadata": {
        "colab": {
          "base_uri": "https://localhost:8080/",
          "height": 294
        },
        "id": "cQGaX3NIj3iu",
        "outputId": "dc9522b2-0a32-4593-dc71-29b0b41c9e1a"
      },
      "source": [
        "dataset.describe()"
      ],
      "execution_count": null,
      "outputs": [
        {
          "output_type": "execute_result",
          "data": {
            "text/html": [
              "<div>\n",
              "<style scoped>\n",
              "    .dataframe tbody tr th:only-of-type {\n",
              "        vertical-align: middle;\n",
              "    }\n",
              "\n",
              "    .dataframe tbody tr th {\n",
              "        vertical-align: top;\n",
              "    }\n",
              "\n",
              "    .dataframe thead th {\n",
              "        text-align: right;\n",
              "    }\n",
              "</style>\n",
              "<table border=\"1\" class=\"dataframe\">\n",
              "  <thead>\n",
              "    <tr style=\"text-align: right;\">\n",
              "      <th></th>\n",
              "      <th>Open</th>\n",
              "      <th>High</th>\n",
              "      <th>Low</th>\n",
              "      <th>Close</th>\n",
              "      <th>Volume</th>\n",
              "    </tr>\n",
              "  </thead>\n",
              "  <tbody>\n",
              "    <tr>\n",
              "      <th>count</th>\n",
              "      <td>1258.000000</td>\n",
              "      <td>1258.000000</td>\n",
              "      <td>1258.000000</td>\n",
              "      <td>1258.000000</td>\n",
              "      <td>1.258000e+03</td>\n",
              "    </tr>\n",
              "    <tr>\n",
              "      <th>mean</th>\n",
              "      <td>533.709833</td>\n",
              "      <td>537.880223</td>\n",
              "      <td>529.007409</td>\n",
              "      <td>712.669666</td>\n",
              "      <td>3.158107e+06</td>\n",
              "    </tr>\n",
              "    <tr>\n",
              "      <th>std</th>\n",
              "      <td>151.904442</td>\n",
              "      <td>153.008811</td>\n",
              "      <td>150.552807</td>\n",
              "      <td>164.752591</td>\n",
              "      <td>2.273726e+06</td>\n",
              "    </tr>\n",
              "    <tr>\n",
              "      <th>min</th>\n",
              "      <td>279.120000</td>\n",
              "      <td>281.210000</td>\n",
              "      <td>277.220000</td>\n",
              "      <td>491.200000</td>\n",
              "      <td>7.900000e+03</td>\n",
              "    </tr>\n",
              "    <tr>\n",
              "      <th>25%</th>\n",
              "      <td>404.115000</td>\n",
              "      <td>406.765000</td>\n",
              "      <td>401.765000</td>\n",
              "      <td>576.740000</td>\n",
              "      <td>1.621700e+06</td>\n",
              "    </tr>\n",
              "    <tr>\n",
              "      <th>50%</th>\n",
              "      <td>537.470000</td>\n",
              "      <td>540.750000</td>\n",
              "      <td>532.990000</td>\n",
              "      <td>695.675000</td>\n",
              "      <td>2.566150e+06</td>\n",
              "    </tr>\n",
              "    <tr>\n",
              "      <th>75%</th>\n",
              "      <td>654.922500</td>\n",
              "      <td>662.587500</td>\n",
              "      <td>644.800000</td>\n",
              "      <td>782.105000</td>\n",
              "      <td>4.122500e+06</td>\n",
              "    </tr>\n",
              "    <tr>\n",
              "      <th>max</th>\n",
              "      <td>816.680000</td>\n",
              "      <td>816.680000</td>\n",
              "      <td>805.140000</td>\n",
              "      <td>1216.830000</td>\n",
              "      <td>2.497790e+07</td>\n",
              "    </tr>\n",
              "  </tbody>\n",
              "</table>\n",
              "</div>"
            ],
            "text/plain": [
              "              Open         High          Low        Close        Volume\n",
              "count  1258.000000  1258.000000  1258.000000  1258.000000  1.258000e+03\n",
              "mean    533.709833   537.880223   529.007409   712.669666  3.158107e+06\n",
              "std     151.904442   153.008811   150.552807   164.752591  2.273726e+06\n",
              "min     279.120000   281.210000   277.220000   491.200000  7.900000e+03\n",
              "25%     404.115000   406.765000   401.765000   576.740000  1.621700e+06\n",
              "50%     537.470000   540.750000   532.990000   695.675000  2.566150e+06\n",
              "75%     654.922500   662.587500   644.800000   782.105000  4.122500e+06\n",
              "max     816.680000   816.680000   805.140000  1216.830000  2.497790e+07"
            ]
          },
          "metadata": {},
          "execution_count": 9
        }
      ]
    },
    {
      "cell_type": "markdown",
      "metadata": {
        "id": "EOBVGOtCmjeZ"
      },
      "source": [
        "**Boxplot Analysis before outlier removal**"
      ]
    },
    {
      "cell_type": "code",
      "metadata": {
        "colab": {
          "base_uri": "https://localhost:8080/",
          "height": 510
        },
        "id": "PV93tPfnkBXL",
        "outputId": "6f773738-42c6-4894-99d3-b8d909b37d3d"
      },
      "source": [
        "dataset.boxplot(figsize=(20,8))"
      ],
      "execution_count": null,
      "outputs": [
        {
          "output_type": "execute_result",
          "data": {
            "text/plain": [
              "<matplotlib.axes._subplots.AxesSubplot at 0x7f8fb784dc50>"
            ]
          },
          "metadata": {},
          "execution_count": 10
        },
        {
          "output_type": "display_data",
          "data": {
            "image/png": "[encoded data removed]",
            "text/plain": [
              "<Figure size 1440x576 with 1 Axes>"
            ]
          },
          "metadata": {
            "needs_background": "light"
          }
        }
      ]
    },
    {
      "cell_type": "code",
      "metadata": {
        "colab": {
          "base_uri": "https://localhost:8080/",
          "height": 446
        },
        "id": "dn0aR42PNlfB",
        "outputId": "ec360e74-4f3b-41fc-df81-da45605d0413"
      },
      "source": [
        "dataset"
      ],
      "execution_count": null,
      "outputs": [
        {
          "output_type": "execute_result",
          "data": {
            "text/html": [
              "<div>\n",
              "<style scoped>\n",
              "    .dataframe tbody tr th:only-of-type {\n",
              "        vertical-align: middle;\n",
              "    }\n",
              "\n",
              "    .dataframe tbody tr th {\n",
              "        vertical-align: top;\n",
              "    }\n",
              "\n",
              "    .dataframe thead th {\n",
              "        text-align: right;\n",
              "    }\n",
              "</style>\n",
              "<table border=\"1\" class=\"dataframe\">\n",
              "  <thead>\n",
              "    <tr style=\"text-align: right;\">\n",
              "      <th></th>\n",
              "      <th>Open</th>\n",
              "      <th>High</th>\n",
              "      <th>Low</th>\n",
              "      <th>Close</th>\n",
              "      <th>Volume</th>\n",
              "    </tr>\n",
              "    <tr>\n",
              "      <th>Date</th>\n",
              "      <th></th>\n",
              "      <th></th>\n",
              "      <th></th>\n",
              "      <th></th>\n",
              "      <th></th>\n",
              "    </tr>\n",
              "  </thead>\n",
              "  <tbody>\n",
              "    <tr>\n",
              "      <th>2012-01-03</th>\n",
              "      <td>325.25</td>\n",
              "      <td>332.83</td>\n",
              "      <td>324.97</td>\n",
              "      <td>663.59</td>\n",
              "      <td>7380500</td>\n",
              "    </tr>\n",
              "    <tr>\n",
              "      <th>2012-01-04</th>\n",
              "      <td>331.27</td>\n",
              "      <td>333.87</td>\n",
              "      <td>329.08</td>\n",
              "      <td>666.45</td>\n",
              "      <td>5749400</td>\n",
              "    </tr>\n",
              "    <tr>\n",
              "      <th>2012-01-05</th>\n",
              "      <td>329.83</td>\n",
              "      <td>330.75</td>\n",
              "      <td>326.89</td>\n",
              "      <td>657.21</td>\n",
              "      <td>6590300</td>\n",
              "    </tr>\n",
              "    <tr>\n",
              "      <th>2012-01-06</th>\n",
              "      <td>328.34</td>\n",
              "      <td>328.77</td>\n",
              "      <td>323.68</td>\n",
              "      <td>648.24</td>\n",
              "      <td>5405900</td>\n",
              "    </tr>\n",
              "    <tr>\n",
              "      <th>2012-01-09</th>\n",
              "      <td>322.04</td>\n",
              "      <td>322.29</td>\n",
              "      <td>309.46</td>\n",
              "      <td>620.76</td>\n",
              "      <td>11688800</td>\n",
              "    </tr>\n",
              "    <tr>\n",
              "      <th>...</th>\n",
              "      <td>...</td>\n",
              "      <td>...</td>\n",
              "      <td>...</td>\n",
              "      <td>...</td>\n",
              "      <td>...</td>\n",
              "    </tr>\n",
              "    <tr>\n",
              "      <th>2016-12-23</th>\n",
              "      <td>790.90</td>\n",
              "      <td>792.74</td>\n",
              "      <td>787.28</td>\n",
              "      <td>789.91</td>\n",
              "      <td>623400</td>\n",
              "    </tr>\n",
              "    <tr>\n",
              "      <th>2016-12-27</th>\n",
              "      <td>790.68</td>\n",
              "      <td>797.86</td>\n",
              "      <td>787.66</td>\n",
              "      <td>791.55</td>\n",
              "      <td>789100</td>\n",
              "    </tr>\n",
              "    <tr>\n",
              "      <th>2016-12-28</th>\n",
              "      <td>793.70</td>\n",
              "      <td>794.23</td>\n",
              "      <td>783.20</td>\n",
              "      <td>785.05</td>\n",
              "      <td>1153800</td>\n",
              "    </tr>\n",
              "    <tr>\n",
              "      <th>2016-12-29</th>\n",
              "      <td>783.33</td>\n",
              "      <td>785.93</td>\n",
              "      <td>778.92</td>\n",
              "      <td>782.79</td>\n",
              "      <td>744300</td>\n",
              "    </tr>\n",
              "    <tr>\n",
              "      <th>2016-12-30</th>\n",
              "      <td>782.75</td>\n",
              "      <td>782.78</td>\n",
              "      <td>770.41</td>\n",
              "      <td>771.82</td>\n",
              "      <td>1770000</td>\n",
              "    </tr>\n",
              "  </tbody>\n",
              "</table>\n",
              "<p>1258 rows × 5 columns</p>\n",
              "</div>"
            ],
            "text/plain": [
              "              Open    High     Low   Close    Volume\n",
              "Date                                                \n",
              "2012-01-03  325.25  332.83  324.97  663.59   7380500\n",
              "2012-01-04  331.27  333.87  329.08  666.45   5749400\n",
              "2012-01-05  329.83  330.75  326.89  657.21   6590300\n",
              "2012-01-06  328.34  328.77  323.68  648.24   5405900\n",
              "2012-01-09  322.04  322.29  309.46  620.76  11688800\n",
              "...            ...     ...     ...     ...       ...\n",
              "2016-12-23  790.90  792.74  787.28  789.91    623400\n",
              "2016-12-27  790.68  797.86  787.66  791.55    789100\n",
              "2016-12-28  793.70  794.23  783.20  785.05   1153800\n",
              "2016-12-29  783.33  785.93  778.92  782.79    744300\n",
              "2016-12-30  782.75  782.78  770.41  771.82   1770000\n",
              "\n",
              "[1258 rows x 5 columns]"
            ]
          },
          "metadata": {},
          "execution_count": 20
        }
      ]
    },
    {
      "cell_type": "code",
      "metadata": {
        "colab": {
          "base_uri": "https://localhost:8080/"
        },
        "id": "NEoznd-hNZR6",
        "outputId": "b777e5d0-b954-4328-bd70-efebb371bd6c"
      },
      "source": [
        "type(dataset)"
      ],
      "execution_count": null,
      "outputs": [
        {
          "output_type": "execute_result",
          "data": {
            "text/plain": [
              "pandas.core.frame.DataFrame"
            ]
          },
          "metadata": {},
          "execution_count": 19
        }
      ]
    },
    {
      "cell_type": "code",
      "metadata": {
        "colab": {
          "base_uri": "https://localhost:8080/"
        },
        "id": "juAYuTAylsh0",
        "outputId": "62cb6e64-5241-4216-9aea-e42399a53375"
      },
      "source": [
        "from scipy import stats\n",
        "\n",
        "z = np.abs(stats.zscore(dataset))\n",
        "print(z)"
      ],
      "execution_count": null,
      "outputs": [
        {
          "output_type": "stream",
          "name": "stdout",
          "text": [
            "[[1.37285476 1.34065332 1.35579373 0.29801768 1.85777584]\n",
            " [1.33320882 1.33385362 1.32848349 0.28065141 1.14012166]\n",
            " [1.34269224 1.35425271 1.34303566 0.33675781 1.51010229]\n",
            " ...\n",
            " [1.71221829 1.67605855 1.68906636 0.43950216 0.88185833]\n",
            " [1.64392454 1.62179174 1.66062649 0.42577916 1.06203085]\n",
            " [1.64010483 1.6011965  1.60407899 0.35916799 0.6107416 ]]\n"
          ]
        }
      ]
    },
    {
      "cell_type": "code",
      "metadata": {
        "colab": {
          "base_uri": "https://localhost:8080/"
        },
        "id": "clprny_VNP0U",
        "outputId": "90036aa3-19af-43f4-c01a-8b12d5b01620"
      },
      "source": [
        "type(z)"
      ],
      "execution_count": null,
      "outputs": [
        {
          "output_type": "execute_result",
          "data": {
            "text/plain": [
              "numpy.ndarray"
            ]
          },
          "metadata": {},
          "execution_count": 16
        }
      ]
    },
    {
      "cell_type": "code",
      "metadata": {
        "colab": {
          "base_uri": "https://localhost:8080/"
        },
        "id": "GZquTbR2NSs0",
        "outputId": "416c05a4-825f-44a8-bffe-2b11414a37e0"
      },
      "source": [
        "z.shape"
      ],
      "execution_count": null,
      "outputs": [
        {
          "output_type": "execute_result",
          "data": {
            "text/plain": [
              "(1258, 5)"
            ]
          },
          "metadata": {},
          "execution_count": 18
        }
      ]
    },
    {
      "cell_type": "code",
      "metadata": {
        "colab": {
          "base_uri": "https://localhost:8080/"
        },
        "id": "L0qoNpc6QmfF",
        "outputId": "f7569641-70bd-478a-e12d-f4e7a0e0f631"
      },
      "source": [
        "dataset.shape"
      ],
      "execution_count": null,
      "outputs": [
        {
          "output_type": "execute_result",
          "data": {
            "text/plain": [
              "(1258, 5)"
            ]
          },
          "metadata": {},
          "execution_count": 23
        }
      ]
    },
    {
      "cell_type": "markdown",
      "metadata": {
        "id": "r1HHvefLmaLT"
      },
      "source": [
        "**Detecting the Outliers**"
      ]
    },
    {
      "cell_type": "code",
      "metadata": {
        "colab": {
          "base_uri": "https://localhost:8080/"
        },
        "id": "1TtiXitUl5Lr",
        "outputId": "e4d752fa-58f3-4ca6-fa17-b56725cd89ef"
      },
      "source": [
        "threshold = 3\n",
        "print(np.where(z > 3))"
      ],
      "execution_count": null,
      "outputs": [
        {
          "output_type": "stream",
          "name": "stdout",
          "text": [
            "(array([  4,  11,  12,  15,  69,  70,  71,  95, 138, 182, 184, 185, 201,\n",
            "       202, 264, 324, 387, 451, 521, 522, 533, 537, 538, 539, 540, 541,\n",
            "       543, 544, 545, 546, 547, 553, 889]), array([4, 4, 4, 4, 4, 4, 4, 4, 4, 4, 4, 4, 4, 4, 4, 4, 4, 4, 4, 4, 3, 3,\n",
            "       3, 3, 3, 3, 3, 3, 3, 3, 3, 3, 4]))\n"
          ]
        }
      ]
    },
    {
      "cell_type": "code",
      "metadata": {
        "colab": {
          "base_uri": "https://localhost:8080/"
        },
        "id": "2GlBfeLvZk8c",
        "outputId": "d441cc77-da33-46a6-dfe1-5291470770a7"
      },
      "source": [
        "print(np.where(z < -3))"
      ],
      "execution_count": null,
      "outputs": [
        {
          "output_type": "stream",
          "name": "stdout",
          "text": [
            "(array([], dtype=int64), array([], dtype=int64))\n"
          ]
        }
      ]
    },
    {
      "cell_type": "markdown",
      "metadata": {
        "id": "Fw5g2sN3mf2y"
      },
      "source": [
        "**Removing the Outliers**"
      ]
    },
    {
      "cell_type": "code",
      "metadata": {
        "colab": {
          "base_uri": "https://localhost:8080/"
        },
        "id": "Nvcid2dZQc78",
        "outputId": "eee9e401-d643-4a2e-99c1-a63f6c43b97d"
      },
      "source": [
        "(z < 3).all(axis=1)"
      ],
      "execution_count": null,
      "outputs": [
        {
          "output_type": "execute_result",
          "data": {
            "text/plain": [
              "array([ True,  True,  True, ...,  True,  True,  True])"
            ]
          },
          "metadata": {},
          "execution_count": 22
        }
      ]
    },
    {
      "cell_type": "code",
      "metadata": {
        "colab": {
          "base_uri": "https://localhost:8080/"
        },
        "id": "sVRMNPAEl9FD",
        "outputId": "3f545e3a-08c7-4720-a721-9c350937847e"
      },
      "source": [
        "dataset_new = dataset[(z < 3).all(axis=1)]\n",
        "dataset_new.shape"
      ],
      "execution_count": null,
      "outputs": [
        {
          "output_type": "execute_result",
          "data": {
            "text/plain": [
              "(1225, 5)"
            ]
          },
          "metadata": {},
          "execution_count": 14
        }
      ]
    },
    {
      "cell_type": "markdown",
      "metadata": {
        "id": "dppNwZEzmv7h"
      },
      "source": [
        "**Boxplot Analysis after outlier removal**"
      ]
    },
    {
      "cell_type": "code",
      "metadata": {
        "colab": {
          "base_uri": "https://localhost:8080/",
          "height": 510
        },
        "id": "259KYLUwmMth",
        "outputId": "1a161f10-35f6-4224-dd43-cf9c6f806e13"
      },
      "source": [
        "dataset_new.boxplot(figsize=(20,8))"
      ],
      "execution_count": null,
      "outputs": [
        {
          "output_type": "execute_result",
          "data": {
            "text/plain": [
              "<matplotlib.axes._subplots.AxesSubplot at 0x7f8fb772eb90>"
            ]
          },
          "metadata": {},
          "execution_count": 15
        },
        {
          "output_type": "display_data",
          "data": {
            "image/png": "[encoded data removed]",
            "text/plain": [
              "<Figure size 1440x576 with 1 Axes>"
            ]
          },
          "metadata": {
            "needs_background": "light"
          }
        }
      ]
    },
    {
      "cell_type": "markdown",
      "metadata": {
        "id": "aMpKuQxlnDOB"
      },
      "source": [
        "### **PCA (Principal Components Analysis) and Feature Analyasis**"
      ]
    },
    {
      "cell_type": "markdown",
      "metadata": {
        "id": "3ZJV6KZAKEhF"
      },
      "source": [
        "**Principal Components Analysis**"
      ]
    },
    {
      "cell_type": "code",
      "metadata": {
        "colab": {
          "base_uri": "https://localhost:8080/"
        },
        "id": "BIcMIRpFnWcM",
        "outputId": "3013ac97-d683-4bda-9ba8-7956c9b36b6c"
      },
      "source": [
        "from sklearn.decomposition import PCA\n",
        "\n",
        "pca = PCA(n_components = 5)\n",
        "pca.fit(dataset_new)\n",
        "ratio_sum = pca.explained_variance_ratio_.cumsum()\n",
        "ratio_sum"
      ],
      "execution_count": null,
      "outputs": [
        {
          "output_type": "execute_result",
          "data": {
            "text/plain": [
              "array([0.99999998, 0.99999999, 1.        , 1.        , 1.        ])"
            ]
          },
          "metadata": {
            "tags": []
          },
          "execution_count": 23
        }
      ]
    },
    {
      "cell_type": "code",
      "metadata": {
        "colab": {
          "base_uri": "https://localhost:8080/"
        },
        "id": "mI7qJsD9iBTA",
        "outputId": "84050210-bda4-42a9-a8aa-42f885b44233"
      },
      "source": [
        "pca = PCA(n_components = 1)\n",
        "pca.fit(dataset_new[['Volume']])\n",
        "ratio_sum = pca.explained_variance_ratio_.cumsum()\n",
        "ratio_sum"
      ],
      "execution_count": null,
      "outputs": [
        {
          "output_type": "execute_result",
          "data": {
            "text/plain": [
              "array([1.])"
            ]
          },
          "metadata": {
            "tags": []
          },
          "execution_count": 24
        }
      ]
    },
    {
      "cell_type": "code",
      "metadata": {
        "colab": {
          "base_uri": "https://localhost:8080/",
          "height": 295
        },
        "id": "Ueqa0QHJp8aa",
        "outputId": "91662203-48e4-4c7e-eedd-b6fc3331d010"
      },
      "source": [
        " scree = pca.explained_variance_ratio_*100\n",
        " plt.bar(np.arange(len(scree))+1, scree)\n",
        " plt.plot(np.arange(len(scree))+1, scree.cumsum(),c=\"red\",marker='o')\n",
        " plt.xlabel(\"Number of principal components\")\n",
        " plt.ylabel(\"Percentage explained variance\")\n",
        " plt.title(\"Scree plot\")\n",
        " plt.show(block=False)"
      ],
      "execution_count": null,
      "outputs": [
        {
          "output_type": "display_data",
          "data": {
            "image/png": "[encoded data removed]",
            "text/plain": [
              "<Figure size 432x288 with 1 Axes>"
            ]
          },
          "metadata": {
            "tags": [],
            "needs_background": "light"
          }
        }
      ]
    },
    {
      "cell_type": "markdown",
      "metadata": {
        "id": "HVHtKQDjqOrS"
      },
      "source": [
        "**Note :** In above tests we can see using all 5 features, that mean reducing to only one dimention gives 0.99999998 explained_variance_ratio cumlative and using all 5 features gives 1 and according to above Scree plot using 1 or 2 features are recomonded "
      ]
    },
    {
      "cell_type": "markdown",
      "metadata": {
        "id": "JPe2RpEeKBjt"
      },
      "source": [
        "**Feature Analyasis**"
      ]
    },
    {
      "cell_type": "code",
      "metadata": {
        "colab": {
          "base_uri": "https://localhost:8080/",
          "height": 341
        },
        "id": "7sh7t_5bqsqM",
        "outputId": "f228b59d-e5f9-4425-a064-07828c28cfb9"
      },
      "source": [
        "import seaborn as sns\n",
        "\n",
        "plt.figure(figsize=(15,5))\n",
        "sns.heatmap(dataset_new.corr(), annot=True, fmt = \".2f\", cmap = \"coolwarm\")"
      ],
      "execution_count": null,
      "outputs": [
        {
          "output_type": "execute_result",
          "data": {
            "text/plain": [
              "<matplotlib.axes._subplots.AxesSubplot at 0x7fe914bc2a90>"
            ]
          },
          "metadata": {
            "tags": []
          },
          "execution_count": 16
        },
        {
          "output_type": "display_data",
          "data": {
            "image/png": "[encoded data removed]",
            "text/plain": [
              "<Figure size 1080x360 with 2 Axes>"
            ]
          },
          "metadata": {
            "tags": [],
            "needs_background": "light"
          }
        }
      ]
    },
    {
      "cell_type": "markdown",
      "metadata": {
        "id": "at-n4mT0rFCR"
      },
      "source": [
        "**Note :** all Low , High and Open are highly correlated but -.6 correation with volume but not good one"
      ]
    },
    {
      "cell_type": "code",
      "metadata": {
        "colab": {
          "base_uri": "https://localhost:8080/",
          "height": 286
        },
        "id": "-KONowUyLciu",
        "outputId": "7e4ee3f3-c241-4d66-dcc3-660bd2ebd7fe"
      },
      "source": [
        "dataset_new[['High','Open','Low']].plot.line()"
      ],
      "execution_count": null,
      "outputs": [
        {
          "output_type": "execute_result",
          "data": {
            "text/plain": [
              "<matplotlib.axes._subplots.AxesSubplot at 0x7fe8c407a8d0>"
            ]
          },
          "metadata": {
            "tags": []
          },
          "execution_count": 148
        },
        {
          "output_type": "display_data",
          "data": {
            "image/png": "[encoded data removed]",
            "text/plain": [
              "<Figure size 432x288 with 1 Axes>"
            ]
          },
          "metadata": {
            "tags": [],
            "needs_background": "light"
          }
        }
      ]
    },
    {
      "cell_type": "code",
      "metadata": {
        "colab": {
          "base_uri": "https://localhost:8080/",
          "height": 286
        },
        "id": "vztp4CYFrBPe",
        "outputId": "31d4dd97-07ea-4131-d3cb-fc5f5a13d1b2"
      },
      "source": [
        "dataset_new[['High','Open','Low','Close']].plot.line()"
      ],
      "execution_count": null,
      "outputs": [
        {
          "output_type": "execute_result",
          "data": {
            "text/plain": [
              "<matplotlib.axes._subplots.AxesSubplot at 0x7faf735e7090>"
            ]
          },
          "metadata": {
            "tags": []
          },
          "execution_count": 43
        },
        {
          "output_type": "display_data",
          "data": {
            "image/png": "[encoded data removed]",
            "text/plain": [
              "<Figure size 432x288 with 1 Axes>"
            ]
          },
          "metadata": {
            "tags": [],
            "needs_background": "light"
          }
        }
      ]
    },
    {
      "cell_type": "markdown",
      "metadata": {
        "id": "W5p1jky0twLw"
      },
      "source": [
        "**Note :** close feature has an unusually high value 2012 to 2013 that is much higher than the high value therefore reliability of close feature is quite problematic "
      ]
    },
    {
      "cell_type": "code",
      "metadata": {
        "colab": {
          "base_uri": "https://localhost:8080/",
          "height": 297
        },
        "id": "DTe6m5QyLl2K",
        "outputId": "b49b261e-594b-477e-f3f6-d4034930f66a"
      },
      "source": [
        "dataset_new[['Volume']].plot.line()"
      ],
      "execution_count": null,
      "outputs": [
        {
          "output_type": "execute_result",
          "data": {
            "text/plain": [
              "<matplotlib.axes._subplots.AxesSubplot at 0x7fe8cb0af6d0>"
            ]
          },
          "metadata": {
            "tags": []
          },
          "execution_count": 149
        },
        {
          "output_type": "display_data",
          "data": {
            "image/png": "[encoded data removed]",
            "text/plain": [
              "<Figure size 432x288 with 1 Axes>"
            ]
          },
          "metadata": {
            "tags": [],
            "needs_background": "light"
          }
        }
      ]
    },
    {
      "cell_type": "markdown",
      "metadata": {
        "id": "4xyfPB5-LWsF"
      },
      "source": [
        "**Note :** As we need to Predict the Sales Volume and when compare to other features volume has less correlation with other data.and volume is a timeseries data so we can use voule as a Sequence prediction by using supervised learning approch to Predict the Sales Volume so for that we use LSTM Model to desgin our Nural network model  "
      ]
    },
    {
      "cell_type": "markdown",
      "metadata": {
        "id": "CmDdzxlmiOZY"
      },
      "source": [
        "### **Preparing Dataset**"
      ]
    },
    {
      "cell_type": "code",
      "metadata": {
        "id": "gVRPy4Yh2KbA"
      },
      "source": [
        "series = dataset_new.astype(float)"
      ],
      "execution_count": null,
      "outputs": []
    },
    {
      "cell_type": "markdown",
      "metadata": {
        "id": "tlawbp3uuPUa"
      },
      "source": [
        "**Note :**  As we use RNN / LSTM  approch to pedict sales volume we can use only volume feature and use LSTM model to do an time series analysis "
      ]
    },
    {
      "cell_type": "code",
      "metadata": {
        "id": "H0eVf99LpH4W"
      },
      "source": [
        "series = series.sort_index()"
      ],
      "execution_count": null,
      "outputs": []
    },
    {
      "cell_type": "code",
      "metadata": {
        "colab": {
          "base_uri": "https://localhost:8080/"
        },
        "id": "8z3aGzQBXaZB",
        "outputId": "37fb3690-b689-487e-faf5-dfdd022b27c4"
      },
      "source": [
        "print(series)"
      ],
      "execution_count": null,
      "outputs": [
        {
          "output_type": "stream",
          "text": [
            "              Open    High     Low   Close     Volume\n",
            "Date                                                 \n",
            "2012-01-03  325.25  332.83  324.97  663.59  7380500.0\n",
            "2012-01-04  331.27  333.87  329.08  666.45  5749400.0\n",
            "2012-01-05  329.83  330.75  326.89  657.21  6590300.0\n",
            "2012-01-06  328.34  328.77  323.68  648.24  5405900.0\n",
            "2012-01-10  313.70  315.72  307.30  621.43  8824000.0\n",
            "...            ...     ...     ...     ...        ...\n",
            "2016-12-23  790.90  792.74  787.28  789.91   623400.0\n",
            "2016-12-27  790.68  797.86  787.66  791.55   789100.0\n",
            "2016-12-28  793.70  794.23  783.20  785.05  1153800.0\n",
            "2016-12-29  783.33  785.93  778.92  782.79   744300.0\n",
            "2016-12-30  782.75  782.78  770.41  771.82  1770000.0\n",
            "\n",
            "[1225 rows x 5 columns]\n"
          ],
          "name": "stdout"
        }
      ]
    },
    {
      "cell_type": "markdown",
      "metadata": {
        "id": "TqDxf-JToNyt"
      },
      "source": [
        "**Train/Test/Validation Set Splitting**"
      ]
    },
    {
      "cell_type": "code",
      "metadata": {
        "colab": {
          "base_uri": "https://localhost:8080/"
        },
        "id": "bvSpYf6dkGlu",
        "outputId": "d983d3bc-e30e-437e-c1a1-8876d905dd77"
      },
      "source": [
        "import datetime as dt\n",
        "\n",
        "train_start = dt.date(2012,1,1)\n",
        "train_end = dt.date(2015,12,31)\n",
        "train_data = series.loc[train_start:train_end].iloc[:, 4:5].values\n",
        "\n",
        "validation_start = dt.date(2016,1,1)\n",
        "validation_end = dt.date(2016,6,30)\n",
        "validation_data = series.loc[validation_start:validation_end].iloc[:, 4:5].values\n",
        "\n",
        "test_start = dt.date(2016,7,1)\n",
        "test_end = dt.date(2016,12,31)\n",
        "test_data = series.loc[test_start:test_end].iloc[:, 4:5].values\n",
        "\n",
        "print(train_data.shape,validation_data.shape,test_data.shape)"
      ],
      "execution_count": null,
      "outputs": [
        {
          "output_type": "stream",
          "text": [
            "(973, 1) (125, 1) (127, 1)\n"
          ],
          "name": "stdout"
        }
      ]
    },
    {
      "cell_type": "markdown",
      "metadata": {
        "id": "HT8_2UJegtG5"
      },
      "source": [
        "### **Feature Scaling**"
      ]
    },
    {
      "cell_type": "code",
      "metadata": {
        "id": "OTrF2kR7gx9x",
        "colab": {
          "base_uri": "https://localhost:8080/"
        },
        "outputId": "c7e8020b-0753-4cc7-c929-5378783de5e5"
      },
      "source": [
        "from sklearn.preprocessing import MinMaxScaler\n",
        "sc = MinMaxScaler(feature_range = (0, 1))\n",
        "\n",
        "training_set_scaled = sc.fit_transform(train_data)\n",
        "validation_set_scaled = sc.transform(validation_data)\n",
        "test_set_scaled = sc.transform(test_data)\n",
        "\n",
        "print(training_set_scaled.shape,validation_set_scaled.shape,test_set_scaled.shape)"
      ],
      "execution_count": null,
      "outputs": [
        {
          "output_type": "stream",
          "text": [
            "(973, 1) (125, 1) (127, 1)\n"
          ],
          "name": "stdout"
        }
      ]
    },
    {
      "cell_type": "code",
      "metadata": {
        "colab": {
          "base_uri": "https://localhost:8080/"
        },
        "id": "F-D31bQTvBJ7",
        "outputId": "8820c5a6-a1bd-413e-fc93-7fad348d723d"
      },
      "source": [
        "print(training_set_scaled)"
      ],
      "execution_count": null,
      "outputs": [
        {
          "output_type": "stream",
          "text": [
            "[[7.60187247e-01]\n",
            " [5.92004867e-01]\n",
            " [6.78709890e-01]\n",
            " [5.56586653e-01]\n",
            " [9.09026231e-01]\n",
            " [4.95947785e-01]\n",
            " [3.87331931e-01]\n",
            " [4.76769364e-01]\n",
            " [3.94384641e-01]\n",
            " [5.70826116e-01]\n",
            " [7.05621546e-01]\n",
            " [6.31702136e-01]\n",
            " [6.66975996e-01]\n",
            " [7.47968737e-01]\n",
            " [4.81574280e-01]\n",
            " [4.42629712e-01]\n",
            " [4.79543017e-01]\n",
            " [4.98999835e-01]\n",
            " [6.55035882e-01]\n",
            " [7.60826528e-01]\n",
            " [4.32215623e-01]\n",
            " [3.79289367e-01]\n",
            " [4.67953477e-01]\n",
            " [4.80471006e-01]\n",
            " [3.75134043e-01]\n",
            " [3.72535676e-01]\n",
            " [5.01319805e-01]\n",
            " [5.23055349e-01]\n",
            " [5.06114411e-01]\n",
            " [5.12682504e-01]\n",
            " [4.06335066e-01]\n",
            " [4.24544255e-01]\n",
            " [3.99828838e-01]\n",
            " [3.74639116e-01]\n",
            " [5.88602244e-01]\n",
            " [6.48488410e-01]\n",
            " [4.62354615e-01]\n",
            " [3.24837087e-01]\n",
            " [3.28971789e-01]\n",
            " [6.56252578e-01]\n",
            " [2.60919327e-01]\n",
            " [2.77674668e-01]\n",
            " [5.51967335e-01]\n",
            " [3.44644477e-01]\n",
            " [4.64035305e-01]\n",
            " [6.07089829e-01]\n",
            " [5.03217025e-01]\n",
            " [6.30609173e-01]\n",
            " [4.48929720e-01]\n",
            " [3.18042151e-01]\n",
            " [5.10362534e-01]\n",
            " [4.98071847e-01]\n",
            " [4.00777448e-01]\n",
            " [3.75732080e-01]\n",
            " [4.14656026e-01]\n",
            " [5.24705106e-01]\n",
            " [3.97488245e-01]\n",
            " [4.77480822e-01]\n",
            " [4.71985070e-01]\n",
            " [4.22451126e-01]\n",
            " [3.36076054e-01]\n",
            " [4.79130578e-01]\n",
            " [4.50971294e-01]\n",
            " [5.12929968e-01]\n",
            " [4.54342984e-01]\n",
            " [6.25103110e-01]\n",
            " [5.51740493e-01]\n",
            " [6.81132970e-01]\n",
            " [6.32248618e-01]\n",
            " [4.54095521e-01]\n",
            " [3.98488410e-01]\n",
            " [3.76134208e-01]\n",
            " [4.32308422e-01]\n",
            " [3.37890786e-01]\n",
            " [4.97473810e-01]\n",
            " [4.13645550e-01]\n",
            " [3.32745608e-01]\n",
            " [3.85836839e-01]\n",
            " [4.56095851e-01]\n",
            " [4.12016415e-01]\n",
            " [5.53359317e-01]\n",
            " [4.81223707e-01]\n",
            " [3.17093541e-01]\n",
            " [4.33731337e-01]\n",
            " [3.76814732e-01]\n",
            " [4.34298441e-01]\n",
            " [1.00000000e+00]\n",
            " [6.93392725e-01]\n",
            " [6.35764662e-01]\n",
            " [6.30897880e-01]\n",
            " [6.57015590e-01]\n",
            " [3.90652066e-01]\n",
            " [7.40596387e-01]\n",
            " [5.38542440e-01]\n",
            " [3.93848470e-01]\n",
            " [6.13596057e-01]\n",
            " [6.32145509e-01]\n",
            " [5.02722098e-01]\n",
            " [4.83512744e-01]\n",
            " [4.32988947e-01]\n",
            " [3.63173307e-01]\n",
            " [2.91120185e-01]\n",
            " [5.50008249e-01]\n",
            " [6.66563557e-01]\n",
            " [4.03685144e-01]\n",
            " [4.84543842e-01]\n",
            " [6.20401303e-01]\n",
            " [5.16012951e-01]\n",
            " [4.28936732e-01]\n",
            " [4.84915038e-01]\n",
            " [4.15501526e-01]\n",
            " [4.60333663e-01]\n",
            " [3.26548709e-01]\n",
            " [2.78664522e-01]\n",
            " [3.49470016e-01]\n",
            " [3.96787099e-01]\n",
            " [5.20694135e-01]\n",
            " [3.41850202e-01]\n",
            " [2.45390992e-01]\n",
            " [4.84750062e-01]\n",
            " [4.46650994e-01]\n",
            " [3.54192444e-01]\n",
            " [3.97240782e-01]\n",
            " [7.23500784e-01]\n",
            " [4.77284913e-01]\n",
            " [4.08191042e-01]\n",
            " [3.01926091e-01]\n",
            " [3.46943826e-01]\n",
            " [3.19640353e-01]\n",
            " [9.66798647e-01]\n",
            " [7.36420440e-01]\n",
            " [4.15109709e-01]\n",
            " [3.76526025e-01]\n",
            " [3.47995546e-01]\n",
            " [7.33935495e-01]\n",
            " [4.51806484e-01]\n",
            " [3.85341912e-01]\n",
            " [3.80990679e-01]\n",
            " [4.08541615e-01]\n",
            " [3.91858451e-01]\n",
            " [3.68112266e-01]\n",
            " [4.09387115e-01]\n",
            " [2.72859441e-01]\n",
            " [2.20716819e-01]\n",
            " [2.96121010e-01]\n",
            " [6.75606286e-01]\n",
            " [7.57124887e-01]\n",
            " [4.98174957e-01]\n",
            " [3.54728615e-01]\n",
            " [4.49940196e-01]\n",
            " [3.63090819e-01]\n",
            " [4.59158212e-01]\n",
            " [3.94364019e-01]\n",
            " [3.68493772e-01]\n",
            " [2.94471253e-01]\n",
            " [5.40192197e-01]\n",
            " [4.25296956e-01]\n",
            " [6.18143199e-01]\n",
            " [3.35931700e-01]\n",
            " [4.39464242e-01]\n",
            " [3.90301493e-01]\n",
            " [3.52759218e-01]\n",
            " [6.29155325e-01]\n",
            " [6.68378289e-01]\n",
            " [5.29076961e-01]\n",
            " [3.87032913e-01]\n",
            " [5.46110699e-01]\n",
            " [5.49575188e-01]\n",
            " [5.41182051e-01]\n",
            " [3.11381259e-01]\n",
            " [4.26987957e-01]\n",
            " [6.40497402e-01]\n",
            " [6.00985730e-01]\n",
            " [7.36853502e-01]\n",
            " [8.12886662e-01]\n",
            " [5.75332014e-01]\n",
            " [6.54932772e-01]\n",
            " [5.76723996e-01]\n",
            " [4.56281448e-01]\n",
            " [5.07176441e-01]\n",
            " [5.65485028e-01]\n",
            " [4.04592510e-01]\n",
            " [6.20824053e-01]\n",
            " [4.21420028e-01]\n",
            " [4.92627650e-01]\n",
            " [4.96834529e-01]\n",
            " [6.24102945e-01]\n",
            " [4.25214468e-01]\n",
            " [4.73789491e-01]\n",
            " [8.38653799e-01]\n",
            " [6.02893261e-01]\n",
            " [5.15930463e-01]\n",
            " [4.96184938e-01]\n",
            " [4.02983997e-01]\n",
            " [3.17320383e-01]\n",
            " [4.23533779e-01]\n",
            " [4.80306030e-01]\n",
            " [3.37787676e-01]\n",
            " [3.26796173e-01]\n",
            " [4.61241029e-01]\n",
            " [5.36727708e-01]\n",
            " [6.43776293e-01]\n",
            " [2.90192197e-01]\n",
            " [3.29157387e-01]\n",
            " [3.44520746e-01]\n",
            " [3.81877423e-01]\n",
            " [7.10849212e-01]\n",
            " [4.89379691e-01]\n",
            " [4.31514477e-01]\n",
            " [4.36391570e-01]\n",
            " [1.90124144e-01]\n",
            " [4.55518436e-01]\n",
            " [5.18456653e-01]\n",
            " [6.28845995e-01]\n",
            " [5.73888476e-01]\n",
            " [6.54015095e-01]\n",
            " [4.53002557e-01]\n",
            " [4.11439000e-01]\n",
            " [3.84682009e-01]\n",
            " [3.01864225e-01]\n",
            " [3.96457148e-01]\n",
            " [2.82077456e-01]\n",
            " [5.55483379e-01]\n",
            " [5.01340427e-01]\n",
            " [7.12241194e-01]\n",
            " [4.40093211e-01]\n",
            " [6.27474635e-01]\n",
            " [6.21174627e-01]\n",
            " [3.96312794e-01]\n",
            " [3.42169842e-01]\n",
            " [7.29027468e-01]\n",
            " [1.73234760e-01]\n",
            " [2.43916522e-01]\n",
            " [3.40169512e-01]\n",
            " [2.89387940e-01]\n",
            " [4.12614452e-01]\n",
            " [5.25200033e-01]\n",
            " [4.79027468e-01]\n",
            " [5.71197311e-01]\n",
            " [3.41901757e-01]\n",
            " [3.46118947e-01]\n",
            " [4.18275179e-01]\n",
            " [3.79145014e-01]\n",
            " [2.65198383e-01]\n",
            " [5.91984245e-01]\n",
            " [8.12175204e-01]\n",
            " [4.18007094e-01]\n",
            " [4.56941351e-01]\n",
            " [6.67099728e-01]\n",
            " [7.84170585e-01]\n",
            " [6.99362781e-01]\n",
            " [4.59921224e-01]\n",
            " [3.35972944e-01]\n",
            " [3.60812093e-01]\n",
            " [3.57894086e-01]\n",
            " [3.37437103e-01]\n",
            " [7.74581374e-01]\n",
            " [6.28536666e-01]\n",
            " [3.86393632e-01]\n",
            " [4.29328549e-01]\n",
            " [5.87076219e-01]\n",
            " [6.24309164e-01]\n",
            " [4.47898622e-01]\n",
            " [3.83980863e-01]\n",
            " [2.47185103e-01]\n",
            " [3.58368391e-01]\n",
            " [5.64227089e-01]\n",
            " [6.06038109e-01]\n",
            " [5.71341665e-01]\n",
            " [7.24975254e-01]\n",
            " [4.24317413e-01]\n",
            " [4.76068217e-01]\n",
            " [4.55085375e-01]\n",
            " [4.18563887e-01]\n",
            " [4.68180318e-01]\n",
            " [4.49465891e-01]\n",
            " [5.73702879e-01]\n",
            " [8.36271962e-01]\n",
            " [5.93860843e-01]\n",
            " [4.24069950e-01]\n",
            " [6.01924029e-01]\n",
            " [3.29260497e-01]\n",
            " [4.14882867e-01]\n",
            " [3.38911573e-01]\n",
            " [3.40963458e-01]\n",
            " [6.40786109e-01]\n",
            " [3.79691496e-01]\n",
            " [4.33483874e-01]\n",
            " [3.02173554e-01]\n",
            " [3.05029696e-01]\n",
            " [3.07215623e-01]\n",
            " [3.53553163e-01]\n",
            " [2.45885919e-01]\n",
            " [4.46939701e-01]\n",
            " [4.72727460e-01]\n",
            " [3.73278066e-01]\n",
            " [4.21749979e-01]\n",
            " [3.59028293e-01]\n",
            " [5.05805081e-01]\n",
            " [7.09962468e-01]\n",
            " [5.85395529e-01]\n",
            " [4.45723006e-01]\n",
            " [4.08727213e-01]\n",
            " [4.19100058e-01]\n",
            " [3.37952652e-01]\n",
            " [5.06949600e-01]\n",
            " [3.59750062e-01]\n",
            " [4.20811680e-01]\n",
            " [6.86907119e-01]\n",
            " [5.96015838e-01]\n",
            " [4.73655448e-01]\n",
            " [3.77783964e-01]\n",
            " [4.11542110e-01]\n",
            " [5.14105419e-01]\n",
            " [4.75428937e-01]\n",
            " [4.76645632e-01]\n",
            " [3.00348511e-01]\n",
            " [4.16945063e-01]\n",
            " [5.19271220e-01]\n",
            " [4.42402871e-01]\n",
            " [4.04674998e-01]\n",
            " [5.10094449e-01]\n",
            " [4.54683247e-01]\n",
            " [3.91982183e-01]\n",
            " [2.98997773e-01]\n",
            " [3.26074404e-01]\n",
            " [8.24228739e-01]\n",
            " [6.63542440e-01]\n",
            " [5.77095191e-01]\n",
            " [4.69603234e-01]\n",
            " [4.09634579e-01]\n",
            " [5.29200693e-01]\n",
            " [4.70108472e-01]\n",
            " [4.74593747e-01]\n",
            " [4.66468696e-01]\n",
            " [4.15934587e-01]\n",
            " [4.38144436e-01]\n",
            " [4.06829993e-01]\n",
            " [5.11630784e-01]\n",
            " [3.85960571e-01]\n",
            " [4.35267673e-01]\n",
            " [5.33026066e-01]\n",
            " [5.52802524e-01]\n",
            " [4.83079683e-01]\n",
            " [3.62987709e-01]\n",
            " [4.55559680e-01]\n",
            " [4.27627237e-01]\n",
            " [4.63870329e-01]\n",
            " [4.43433968e-01]\n",
            " [4.47713025e-01]\n",
            " [6.02748907e-01]\n",
            " [6.97156232e-01]\n",
            " [8.23476037e-01]\n",
            " [6.23649262e-01]\n",
            " [5.27674668e-01]\n",
            " [3.78258269e-01]\n",
            " [3.97941929e-01]\n",
            " [4.85461519e-01]\n",
            " [3.56192774e-01]\n",
            " [3.90693310e-01]\n",
            " [2.15891281e-01]\n",
            " [3.51460035e-01]\n",
            " [4.06850615e-01]\n",
            " [4.08892188e-01]\n",
            " [3.52800462e-01]\n",
            " [5.34088097e-01]\n",
            " [5.30778273e-01]\n",
            " [4.04984327e-01]\n",
            " [4.09634579e-01]\n",
            " [3.10927576e-01]\n",
            " [7.51484781e-01]\n",
            " [6.00119607e-01]\n",
            " [4.22616102e-01]\n",
            " [4.29411037e-01]\n",
            " [6.20380681e-01]\n",
            " [3.67143034e-01]\n",
            " [3.90775798e-01]\n",
            " [3.62575270e-01]\n",
            " [4.49074074e-01]\n",
            " [4.41804834e-01]\n",
            " [3.53944981e-01]\n",
            " [2.70271385e-01]\n",
            " [3.10927576e-01]\n",
            " [2.84655201e-01]\n",
            " [3.07174379e-01]\n",
            " [2.73168770e-01]\n",
            " [2.84201518e-01]\n",
            " [2.93068960e-01]\n",
            " [4.30174049e-01]\n",
            " [3.86084303e-01]\n",
            " [3.45912728e-01]\n",
            " [3.74020457e-01]\n",
            " [2.54392477e-01]\n",
            " [3.62925843e-01]\n",
            " [1.79235750e-01]\n",
            " [2.22129423e-01]\n",
            " [2.17035800e-01]\n",
            " [3.58120927e-01]\n",
            " [2.74457642e-01]\n",
            " [3.05215293e-01]\n",
            " [3.84517034e-01]\n",
            " [4.23007919e-01]\n",
            " [4.21688114e-01]\n",
            " [2.66456323e-01]\n",
            " [3.22414006e-01]\n",
            " [2.54722428e-01]\n",
            " [2.65693310e-01]\n",
            " [3.32560010e-01]\n",
            " [2.25934175e-01]\n",
            " [2.73519343e-01]\n",
            " [2.75818692e-01]\n",
            " [2.59867607e-01]\n",
            " [3.99643240e-01]\n",
            " [3.29920399e-01]\n",
            " [8.98612142e-01]\n",
            " [3.67081168e-01]\n",
            " [3.06926916e-01]\n",
            " [3.40499464e-01]\n",
            " [2.59970717e-01]\n",
            " [2.59743875e-01]\n",
            " [3.55697847e-01]\n",
            " [3.47913058e-01]\n",
            " [3.08690093e-01]\n",
            " [4.37381424e-01]\n",
            " [2.80273035e-01]\n",
            " [2.66940939e-01]\n",
            " [4.01499216e-01]\n",
            " [5.47976986e-01]\n",
            " [4.66004702e-01]\n",
            " [2.90810855e-01]\n",
            " [2.56588716e-01]\n",
            " [3.28683082e-01]\n",
            " [4.14738514e-01]\n",
            " [8.80258599e-01]\n",
            " [7.50206220e-01]\n",
            " [4.56343314e-01]\n",
            " [5.50441310e-01]\n",
            " [4.32215623e-01]\n",
            " [4.19471253e-01]\n",
            " [2.39018807e-01]\n",
            " [3.31405180e-01]\n",
            " [2.73251258e-01]\n",
            " [3.38643488e-01]\n",
            " [2.64806566e-01]\n",
            " [2.34894416e-01]\n",
            " [2.43710303e-01]\n",
            " [1.88144436e-01]\n",
            " [3.46840716e-01]\n",
            " [2.66353213e-01]\n",
            " [2.29481152e-01]\n",
            " [2.51309494e-01]\n",
            " [3.26095026e-01]\n",
            " [2.40678875e-01]\n",
            " [2.63363029e-01]\n",
            " [3.63420770e-01]\n",
            " [2.33409635e-01]\n",
            " [1.98651324e-01]\n",
            " [2.25171162e-01]\n",
            " [2.58784954e-01]\n",
            " [3.33054937e-01]\n",
            " [4.72418131e-01]\n",
            " [2.31749567e-01]\n",
            " [2.46071517e-01]\n",
            " [2.83417883e-01]\n",
            " [3.46118947e-01]\n",
            " [2.45824053e-01]\n",
            " [2.33842696e-01]\n",
            " [2.94924936e-01]\n",
            " [3.06060794e-01]\n",
            " [3.82918832e-01]\n",
            " [3.53511919e-01]\n",
            " [3.29631692e-01]\n",
            " [4.46774726e-01]\n",
            " [3.30786521e-01]\n",
            " [3.17052297e-01]\n",
            " [4.56693888e-01]\n",
            " [3.43963953e-01]\n",
            " [6.74307102e-01]\n",
            " [3.55532871e-01]\n",
            " [1.51148643e-01]\n",
            " [2.76086777e-01]\n",
            " [3.24094696e-01]\n",
            " [2.55031758e-01]\n",
            " [2.80252413e-01]\n",
            " [3.76196074e-01]\n",
            " [3.44170172e-01]\n",
            " [3.65410789e-01]\n",
            " [5.27550936e-01]\n",
            " [4.63354780e-01]\n",
            " [4.30648354e-01]\n",
            " [4.42856554e-01]\n",
            " [4.99865957e-01]\n",
            " [5.13053700e-01]\n",
            " [4.02860266e-01]\n",
            " [3.47727460e-01]\n",
            " [5.58329209e-01]\n",
            " [4.08995298e-01]\n",
            " [3.24445269e-01]\n",
            " [4.02623113e-01]\n",
            " [8.04885342e-01]\n",
            " [9.00344387e-01]\n",
            " [4.56673266e-01]\n",
            " [4.91792461e-01]\n",
            " [9.44949682e-01]\n",
            " [5.81219583e-01]\n",
            " [4.94813577e-01]\n",
            " [4.02097253e-01]\n",
            " [5.44842448e-01]\n",
            " [4.01808546e-01]\n",
            " [4.23678132e-01]\n",
            " [3.56130908e-01]\n",
            " [3.79289367e-01]\n",
            " [4.51806484e-01]\n",
            " [4.34607770e-01]\n",
            " [3.51233193e-01]\n",
            " [3.84661387e-01]\n",
            " [4.34855234e-01]\n",
            " [3.53759383e-01]\n",
            " [4.05767962e-01]\n",
            " [4.84688196e-01]\n",
            " [4.73995711e-01]\n",
            " [4.46712860e-01]\n",
            " [3.33034315e-01]\n",
            " [3.47892436e-01]\n",
            " [6.63315598e-01]\n",
            " [6.27825208e-01]\n",
            " [4.98071847e-01]\n",
            " [5.33211664e-01]\n",
            " [5.36170915e-04]\n",
            " [3.43355605e-03]\n",
            " [2.99018395e-04]\n",
            " [0.00000000e+00]\n",
            " [1.43528829e-02]\n",
            " [5.24952569e-01]\n",
            " [6.55922626e-01]\n",
            " [4.53033490e-01]\n",
            " [3.24105007e-01]\n",
            " [3.42623526e-01]\n",
            " [4.15419038e-01]\n",
            " [4.03870742e-01]\n",
            " [2.64693145e-01]\n",
            " [3.96673678e-01]\n",
            " [5.03722263e-01]\n",
            " [7.01311557e-01]\n",
            " [2.63837334e-01]\n",
            " [2.43071022e-01]\n",
            " [2.10797657e-01]\n",
            " [1.93351481e-01]\n",
            " [2.15746927e-01]\n",
            " [3.43108142e-01]\n",
            " [2.77478759e-01]\n",
            " [1.79740988e-01]\n",
            " [1.95661140e-01]\n",
            " [1.73286315e-01]\n",
            " [1.04780170e-01]\n",
            " [1.73337870e-01]\n",
            " [3.31642333e-01]\n",
            " [2.07601254e-01]\n",
            " [2.50711458e-01]\n",
            " [1.96382909e-01]\n",
            " [1.69667162e-01]\n",
            " [1.22061371e-01]\n",
            " [1.74915450e-01]\n",
            " [1.52324095e-01]\n",
            " [1.30928813e-01]\n",
            " [1.83205477e-01]\n",
            " [1.22525365e-01]\n",
            " [1.65790233e-01]\n",
            " [1.98403860e-01]\n",
            " [2.16138745e-01]\n",
            " [1.69522808e-01]\n",
            " [1.38806401e-01]\n",
            " [1.81803184e-01]\n",
            " [1.47147983e-01]\n",
            " [1.91650169e-01]\n",
            " [1.86474058e-01]\n",
            " [1.73348181e-01]\n",
            " [1.78256207e-01]\n",
            " [1.50499051e-01]\n",
            " [1.38558938e-01]\n",
            " [1.12616514e-01]\n",
            " [1.49560752e-01]\n",
            " [1.25030933e-01]\n",
            " [1.74729852e-01]\n",
            " [1.48127526e-01]\n",
            " [1.78771756e-01]\n",
            " [2.52505568e-01]\n",
            " [4.64035305e-01]\n",
            " [1.57644560e-01]\n",
            " [2.26759053e-01]\n",
            " [2.02239545e-01]\n",
            " [1.78792378e-01]\n",
            " [2.29831725e-01]\n",
            " [1.34640765e-01]\n",
            " [1.48478099e-01]\n",
            " [1.08100305e-01]\n",
            " [7.28161346e-02]\n",
            " [1.08956116e-01]\n",
            " [1.96073579e-01]\n",
            " [1.14328137e-01]\n",
            " [1.39074487e-01]\n",
            " [1.66398581e-01]\n",
            " [1.90350986e-01]\n",
            " [1.66532624e-01]\n",
            " [1.43240122e-01]\n",
            " [3.10216118e-01]\n",
            " [4.13078446e-01]\n",
            " [2.11808133e-01]\n",
            " [1.74379279e-01]\n",
            " [1.26330116e-01]\n",
            " [1.05914378e-01]\n",
            " [9.53250021e-02]\n",
            " [1.00934175e-01]\n",
            " [1.38363029e-01]\n",
            " [1.03986225e-01]\n",
            " [2.15994391e-01]\n",
            " [2.00785697e-01]\n",
            " [1.46354038e-01]\n",
            " [1.59129341e-01]\n",
            " [1.36764827e-01]\n",
            " [1.13730100e-01]\n",
            " [1.53303638e-01]\n",
            " [1.24432896e-01]\n",
            " [1.58180731e-01]\n",
            " [1.47581044e-01]\n",
            " [1.00789821e-01]\n",
            " [1.55819517e-01]\n",
            " [1.31588716e-01]\n",
            " [1.00088674e-01]\n",
            " [1.06079353e-01]\n",
            " [9.35102697e-02]\n",
            " [8.05390580e-02]\n",
            " [1.39559103e-01]\n",
            " [1.68244246e-01]\n",
            " [1.74812340e-01]\n",
            " [1.32496082e-01]\n",
            " [1.10925513e-01]\n",
            " [1.61933927e-01]\n",
            " [1.24474140e-01]\n",
            " [1.49529819e-01]\n",
            " [1.67491545e-01]\n",
            " [1.46735544e-01]\n",
            " [1.31908356e-01]\n",
            " [9.99546317e-02]\n",
            " [1.25082488e-01]\n",
            " [1.64326074e-01]\n",
            " [1.63903324e-01]\n",
            " [1.51818857e-01]\n",
            " [1.73729687e-01]\n",
            " [1.48127526e-01]\n",
            " [3.84465479e-01]\n",
            " [1.73389425e-01]\n",
            " [1.50901180e-01]\n",
            " [1.77369463e-01]\n",
            " [1.97764580e-01]\n",
            " [1.48034727e-01]\n",
            " [1.31413429e-01]\n",
            " [1.66398581e-01]\n",
            " [1.48220325e-01]\n",
            " [1.20690011e-01]\n",
            " [1.16905881e-01]\n",
            " [1.24422585e-01]\n",
            " [1.96259177e-01]\n",
            " [2.04456405e-01]\n",
            " [2.59517034e-01]\n",
            " [3.16959498e-01]\n",
            " [2.65373670e-01]\n",
            " [2.28346944e-01]\n",
            " [3.82681679e-01]\n",
            " [3.81568094e-01]\n",
            " [5.70341500e-01]\n",
            " [2.68044213e-01]\n",
            " [2.40070527e-01]\n",
            " [3.00183535e-01]\n",
            " [2.41369710e-01]\n",
            " [2.02631362e-01]\n",
            " [1.21401468e-01]\n",
            " [1.30227666e-01]\n",
            " [1.81741318e-01]\n",
            " [1.49272045e-01]\n",
            " [2.09013858e-01]\n",
            " [1.41703786e-01]\n",
            " [1.27474635e-01]\n",
            " [2.08725151e-01]\n",
            " [1.36651406e-01]\n",
            " [1.67635899e-01]\n",
            " [1.16173802e-01]\n",
            " [9.87379362e-02]\n",
            " [1.15658253e-01]\n",
            " [1.37280376e-01]\n",
            " [1.32145509e-01]\n",
            " [1.77152932e-01]\n",
            " [2.01548709e-01]\n",
            " [1.42734884e-01]\n",
            " [1.60376969e-01]\n",
            " [2.28522230e-01]\n",
            " [1.75121670e-01]\n",
            " [1.83741648e-01]\n",
            " [1.56211334e-01]\n",
            " [1.17586406e-01]\n",
            " [2.17293574e-01]\n",
            " [1.56592840e-01]\n",
            " [1.30949435e-01]\n",
            " [1.42724573e-01]\n",
            " [2.63723913e-01]\n",
            " [2.39359070e-01]\n",
            " [1.92134785e-01]\n",
            " [1.75730017e-01]\n",
            " [1.65274684e-01]\n",
            " [2.04837911e-01]\n",
            " [2.89274520e-01]\n",
            " [4.07933267e-01]\n",
            " [2.96461272e-01]\n",
            " [3.00956859e-01]\n",
            " [3.79681185e-01]\n",
            " [2.80025571e-01]\n",
            " [2.25779510e-01]\n",
            " [7.19706343e-02]\n",
            " [1.06471171e-01]\n",
            " [2.34121092e-01]\n",
            " [8.95302318e-02]\n",
            " [1.40260249e-01]\n",
            " [1.48436856e-01]\n",
            " [2.11570981e-01]\n",
            " [2.98193516e-01]\n",
            " [2.12107152e-01]\n",
            " [3.44964118e-01]\n",
            " [2.12756743e-01]\n",
            " [2.39090984e-01]\n",
            " [2.43596882e-01]\n",
            " [2.27625175e-01]\n",
            " [2.79211004e-01]\n",
            " [2.36152355e-01]\n",
            " [2.29326487e-01]\n",
            " [2.33110616e-01]\n",
            " [2.75200033e-01]\n",
            " [2.34451043e-01]\n",
            " [1.58356017e-01]\n",
            " [1.95506475e-01]\n",
            " [1.72801699e-01]\n",
            " [4.30833952e-01]\n",
            " [5.77249856e-01]\n",
            " [2.93027716e-01]\n",
            " [2.09385053e-01]\n",
            " [1.70718881e-01]\n",
            " [1.89907614e-01]\n",
            " [1.81019550e-01]\n",
            " [1.29897715e-01]\n",
            " [1.79606945e-01]\n",
            " [1.41239792e-01]\n",
            " [1.66243917e-01]\n",
            " [1.95124969e-01]\n",
            " [1.65893343e-01]\n",
            " [1.49003959e-01]\n",
            " [1.01171327e-01]\n",
            " [1.48106904e-01]\n",
            " [1.49498886e-01]\n",
            " [1.02810773e-01]\n",
            " [1.87453601e-01]\n",
            " [2.37523715e-01]\n",
            " [2.47690341e-01]\n",
            " [2.18768044e-01]\n",
            " [1.74956694e-01]\n",
            " [1.92701889e-01]\n",
            " [1.42466799e-01]\n",
            " [1.70254887e-01]\n",
            " [1.08698342e-01]\n",
            " [1.83989112e-01]\n",
            " [1.86917430e-01]\n",
            " [1.42466799e-01]\n",
            " [1.74832962e-01]\n",
            " [1.68378289e-01]\n",
            " [1.85350161e-01]\n",
            " [2.19273282e-01]\n",
            " [1.22628475e-01]\n",
            " [2.69003135e-01]\n",
            " [1.68677308e-01]\n",
            " [2.65538646e-01]\n",
            " [2.21098325e-01]\n",
            " [1.61335890e-01]\n",
            " [1.94825951e-01]\n",
            " [1.31939289e-01]\n",
            " [1.62923781e-01]\n",
            " [2.01589953e-01]\n",
            " [1.76152767e-01]\n",
            " [1.35744040e-01]\n",
            " [1.33516869e-01]\n",
            " [1.20700322e-01]\n",
            " [1.59809866e-01]\n",
            " [1.44508373e-01]\n",
            " [1.68831972e-01]\n",
            " [2.67693640e-01]\n",
            " [2.38276417e-01]\n",
            " [1.33207539e-01]\n",
            " [2.21057082e-01]\n",
            " [1.72327394e-01]\n",
            " [1.89392065e-01]\n",
            " [1.63490885e-01]\n",
            " [4.30679287e-01]\n",
            " [5.07774478e-01]\n",
            " [2.46442712e-01]\n",
            " [1.52922131e-01]\n",
            " [1.74348346e-01]\n",
            " [2.13880640e-01]\n",
            " [1.81504166e-01]\n",
            " [1.34053040e-01]\n",
            " [1.41796585e-01]\n",
            " [1.60758476e-01]\n",
            " [1.58624103e-01]\n",
            " [1.56695950e-01]\n",
            " [9.25307267e-02]\n",
            " [1.67687454e-01]\n",
            " [1.28309824e-01]\n",
            " [1.43941269e-01]\n",
            " [2.02445764e-01]\n",
            " [2.05755589e-01]\n",
            " [2.01992081e-01]\n",
            " [1.46714922e-01]\n",
            " [1.50004124e-01]\n",
            " [1.20463169e-01]\n",
            " [2.47319145e-01]\n",
            " [1.56427864e-01]\n",
            " [1.05367896e-01]\n",
            " [2.67002805e-01]\n",
            " [1.95537408e-01]\n",
            " [1.99115318e-01]\n",
            " [1.75967170e-01]\n",
            " [1.38208364e-01]\n",
            " [1.42322445e-01]\n",
            " [1.55974181e-01]\n",
            " [1.49241112e-01]\n",
            " [1.86329704e-01]\n",
            " [1.24721604e-01]\n",
            " [9.77377712e-02]\n",
            " [1.67532789e-01]\n",
            " [1.09698507e-01]\n",
            " [1.32630125e-01]\n",
            " [1.88195991e-01]\n",
            " [1.94423822e-01]\n",
            " [1.28103605e-01]\n",
            " [1.22659408e-01]\n",
            " [1.31846490e-01]\n",
            " [1.36909181e-01]\n",
            " [2.16654293e-01]\n",
            " [1.98991586e-01]\n",
            " [2.27800462e-01]\n",
            " [2.01383733e-01]\n",
            " [1.26618824e-01]\n",
            " [1.31217520e-01]\n",
            " [1.63872391e-01]\n",
            " [1.32887899e-01]\n",
            " [1.88845583e-01]\n",
            " [2.00940361e-01]\n",
            " [2.26697187e-01]\n",
            " [3.33683907e-01]\n",
            " [1.83195166e-01]\n",
            " [4.90843851e-01]\n",
            " [6.03501609e-01]\n",
            " [3.47407820e-01]\n",
            " [4.04334736e-01]\n",
            " [3.11515301e-01]\n",
            " [3.73030603e-01]\n",
            " [2.75045368e-01]\n",
            " [1.77286975e-01]\n",
            " [1.61593665e-01]\n",
            " [1.51189887e-01]\n",
            " [1.75101048e-01]\n",
            " [1.33692155e-01]\n",
            " [1.52911821e-01]\n",
            " [2.39874618e-01]\n",
            " [1.61335890e-01]\n",
            " [1.43941269e-01]\n",
            " [1.85731667e-01]\n",
            " [5.17745195e-01]\n",
            " [3.01987957e-01]\n",
            " [1.85886332e-01]\n",
            " [1.09729440e-01]\n",
            " [1.07626000e-01]\n",
            " [1.49323600e-01]\n",
            " [2.18974264e-01]\n",
            " [2.93594820e-01]\n",
            " [4.38969315e-01]\n",
            " [5.94159861e-01]\n",
            " [3.63987874e-01]\n",
            " [4.35948198e-01]\n",
            " [3.59172647e-01]\n",
            " [2.03208777e-01]\n",
            " [2.23624515e-01]\n",
            " [3.80908191e-01]\n",
            " [2.64755011e-01]\n",
            " [1.80617421e-01]\n",
            " [2.14581787e-01]\n",
            " [2.34224202e-01]\n",
            " [1.74688608e-01]\n",
            " [1.95640518e-01]\n",
            " [1.40806731e-01]\n",
            " [1.74709230e-01]\n",
            " [2.14107482e-01]\n",
            " [1.31836179e-01]\n",
            " [2.33729275e-01]\n",
            " [5.28489235e-01]\n",
            " [1.83597294e-01]\n",
            " [2.63445517e-01]\n",
            " [1.50849625e-01]\n",
            " [2.30161676e-01]\n",
            " [2.23346119e-01]\n",
            " [3.21681927e-01]\n",
            " [2.37317496e-01]\n",
            " [2.48030603e-01]\n",
            " [1.91753279e-01]\n",
            " [2.76014600e-01]\n",
            " [1.85154252e-01]\n",
            " [2.22552174e-01]\n",
            " [2.14963293e-01]\n",
            " [2.24181308e-01]\n",
            " [1.69182546e-01]\n",
            " [1.30671039e-01]\n",
            " [1.85577002e-01]\n",
            " [1.45137342e-01]\n",
            " [1.93619566e-01]\n",
            " [1.65305617e-01]\n",
            " [1.51509527e-01]\n",
            " [2.55928813e-01]\n",
            " [1.83865380e-01]\n",
            " [4.18945393e-01]\n",
            " [6.85267673e-01]\n",
            " [2.79293492e-01]\n",
            " [2.30749402e-01]\n",
            " [2.23851357e-01]\n",
            " [1.49313289e-01]\n",
            " [1.96001402e-01]\n",
            " [1.93681432e-01]\n",
            " [1.60593500e-01]\n",
            " [1.75162913e-01]\n",
            " [1.91134620e-01]\n",
            " [1.55046193e-01]\n",
            " [2.12602079e-01]\n",
            " [1.64985977e-01]\n",
            " [1.40074651e-01]\n",
            " [1.88618741e-01]\n",
            " [2.13189805e-01]\n",
            " [1.95702384e-01]\n",
            " [1.54974016e-01]\n",
            " [1.72853254e-01]\n",
            " [1.36022437e-01]\n",
            " [2.27295224e-01]\n",
            " [1.45034232e-01]\n",
            " [2.39750887e-01]\n",
            " [1.14884929e-01]\n",
            " [8.56429927e-02]\n",
            " [2.15468531e-01]\n",
            " [2.19283593e-01]\n",
            " [2.29161511e-01]\n",
            " [2.66301658e-01]\n",
            " [2.83490060e-01]\n",
            " [1.86051307e-01]\n",
            " [1.87824796e-01]\n",
            " [2.77581869e-01]\n",
            " [2.03848057e-01]\n",
            " [2.28542852e-01]\n",
            " [2.47937804e-01]\n",
            " [2.74096758e-01]\n",
            " [2.04714180e-01]\n",
            " [1.59356182e-01]\n",
            " [3.23847233e-01]\n",
            " [1.56500041e-01]\n",
            " [1.39971542e-01]\n",
            " [1.60645055e-01]\n",
            " [5.35449146e-02]\n",
            " [1.55427699e-01]\n",
            " [1.81174214e-01]\n",
            " [1.32537326e-01]\n",
            " [1.52777778e-01]]\n"
          ],
          "name": "stdout"
        }
      ]
    },
    {
      "cell_type": "markdown",
      "metadata": {
        "id": "JyYgYocqhNUg"
      },
      "source": [
        "### **Creating a Traning and Validation data structures with (30 / 40 / 50) timesteps and 1 output**"
      ]
    },
    {
      "cell_type": "markdown",
      "metadata": {
        "id": "FsJdozCo6JaR"
      },
      "source": [
        "**Preparing Traning  and Validation Dataset**"
      ]
    },
    {
      "cell_type": "code",
      "metadata": {
        "id": "iofU21B0i6ST"
      },
      "source": [
        "X_train = []\n",
        "y_train = []\n",
        "for i in range(30, 973):\n",
        "    X_train.append(training_set_scaled[i-30:i, 0])\n",
        "    y_train.append(training_set_scaled[i, 0])\n",
        "X_train, y_train = np.array(X_train), np.array(y_train)"
      ],
      "execution_count": null,
      "outputs": []
    },
    {
      "cell_type": "code",
      "metadata": {
        "id": "tMozzaHupn3N"
      },
      "source": [
        "X_validation = []  \n",
        "y_validation = []\n",
        "for i in range(30, 125):\n",
        "    X_validation.append(validation_set_scaled[i-30:i, 0])\n",
        "    y_validation.append(validation_set_scaled[i, 0])\n",
        "X_validation, y_validation = np.array(X_validation), np.array(y_validation)"
      ],
      "execution_count": null,
      "outputs": []
    },
    {
      "cell_type": "code",
      "metadata": {
        "colab": {
          "base_uri": "https://localhost:8080/"
        },
        "id": "mpibNR5MtbmF",
        "outputId": "3295ef75-0aad-403c-c0a8-daab217b96d4"
      },
      "source": [
        "print(X_train.shape)"
      ],
      "execution_count": null,
      "outputs": [
        {
          "output_type": "stream",
          "text": [
            "(943, 30)\n"
          ],
          "name": "stdout"
        }
      ]
    },
    {
      "cell_type": "code",
      "metadata": {
        "colab": {
          "base_uri": "https://localhost:8080/"
        },
        "id": "6auWvDjue9Ma",
        "outputId": "32d78fa0-aba9-41c8-838f-3a6766a8a076"
      },
      "source": [
        "print(X_validation.shape)"
      ],
      "execution_count": null,
      "outputs": [
        {
          "output_type": "stream",
          "text": [
            "(95, 30)\n"
          ],
          "name": "stdout"
        }
      ]
    },
    {
      "cell_type": "markdown",
      "metadata": {
        "id": "D8yaN7Zvi95l"
      },
      "source": [
        " **Reshaping Traning and Validation Dataset**"
      ]
    },
    {
      "cell_type": "code",
      "metadata": {
        "id": "FOXqJHmNjBkz",
        "colab": {
          "base_uri": "https://localhost:8080/"
        },
        "outputId": "c63c5212-6f7b-485e-d71d-1985320c76f3"
      },
      "source": [
        "X_train = np.reshape(X_train, (X_train.shape[0], X_train.shape[1], 1))\n",
        "print(X_train.shape)"
      ],
      "execution_count": null,
      "outputs": [
        {
          "output_type": "stream",
          "text": [
            "(943, 30, 1)\n"
          ],
          "name": "stdout"
        }
      ]
    },
    {
      "cell_type": "code",
      "metadata": {
        "colab": {
          "base_uri": "https://localhost:8080/"
        },
        "id": "7v3OjPsS0Az4",
        "outputId": "7bff43d6-27a1-4455-db07-e00cee1cb43b"
      },
      "source": [
        "X_validation = np.reshape(X_validation, (X_validation.shape[0], X_validation.shape[1], 1))\n",
        "print(X_validation.shape)"
      ],
      "execution_count": null,
      "outputs": [
        {
          "output_type": "stream",
          "text": [
            "(95, 30, 1)\n"
          ],
          "name": "stdout"
        }
      ]
    },
    {
      "cell_type": "markdown",
      "metadata": {
        "id": "ZRRSOJeVjEWV"
      },
      "source": [
        "## **Building and Training the RNN**"
      ]
    },
    {
      "cell_type": "markdown",
      "metadata": {
        "id": "k4XV88JMjHXG"
      },
      "source": [
        "### Importing the Keras libraries and packages"
      ]
    },
    {
      "cell_type": "code",
      "metadata": {
        "id": "9JRnqsxEjKsD"
      },
      "source": [
        "from keras.models import Sequential\n",
        "from keras.layers import Dense\n",
        "from keras.layers import LSTM\n",
        "from keras.layers import Dropout"
      ],
      "execution_count": null,
      "outputs": []
    },
    {
      "cell_type": "markdown",
      "metadata": {
        "id": "FEIE-1s9jNzC"
      },
      "source": [
        "### Initialising the RNN"
      ]
    },
    {
      "cell_type": "code",
      "metadata": {
        "id": "1338dJ0UjRKH"
      },
      "source": [
        "regressor = Sequential()"
      ],
      "execution_count": null,
      "outputs": []
    },
    {
      "cell_type": "markdown",
      "metadata": {
        "id": "62eg1OPGjT8z"
      },
      "source": [
        "### Adding the first LSTM layer and some Dropout regularisation"
      ]
    },
    {
      "cell_type": "code",
      "metadata": {
        "id": "2hIinyXUjbVU"
      },
      "source": [
        "regressor.add(LSTM(units = 96, activation='tanh',return_sequences = True, input_shape = (X_train.shape[1], 1)))\n",
        "regressor.add(Dropout(0.2))"
      ],
      "execution_count": null,
      "outputs": []
    },
    {
      "cell_type": "markdown",
      "metadata": {
        "id": "3XBIYLyOjlMx"
      },
      "source": [
        "### Adding a second LSTM layer and some Dropout regularisation"
      ]
    },
    {
      "cell_type": "code",
      "metadata": {
        "id": "UG7nrVaSjuZ2"
      },
      "source": [
        "regressor.add(LSTM(units = 65,activation='tanh', return_sequences = True))\n",
        "regressor.add(Dropout(0.2))"
      ],
      "execution_count": null,
      "outputs": []
    },
    {
      "cell_type": "markdown",
      "metadata": {
        "id": "Ey3fHVnGj1cu"
      },
      "source": [
        "### Adding a third LSTM layer and some Dropout regularisation"
      ]
    },
    {
      "cell_type": "code",
      "metadata": {
        "id": "PuNi6PgFj7jO"
      },
      "source": [
        "regressor.add(LSTM(units = 55,activation='tanh', return_sequences = True))\n",
        "regressor.add(Dropout(0.2))"
      ],
      "execution_count": null,
      "outputs": []
    },
    {
      "cell_type": "markdown",
      "metadata": {
        "id": "SYTrtfTmj933"
      },
      "source": [
        "### Adding a fourth LSTM layer and some Dropout regularisation"
      ]
    },
    {
      "cell_type": "code",
      "metadata": {
        "id": "Jp4Ty8fRkBYV"
      },
      "source": [
        "regressor.add(LSTM(units = 34,activation='tanh',return_sequences = False))\n",
        "regressor.add(Dropout(0.1))"
      ],
      "execution_count": null,
      "outputs": []
    },
    {
      "cell_type": "markdown",
      "metadata": {
        "id": "9ABI6rOIkHhk"
      },
      "source": [
        "### Adding the output layer"
      ]
    },
    {
      "cell_type": "code",
      "metadata": {
        "id": "aM6R1z4WkME8"
      },
      "source": [
        "regressor.add(Dense(units = 1))"
      ],
      "execution_count": null,
      "outputs": []
    },
    {
      "cell_type": "markdown",
      "metadata": {
        "id": "zLx4K7uUkPSh"
      },
      "source": [
        "### Compiling the RNN"
      ]
    },
    {
      "cell_type": "code",
      "metadata": {
        "id": "XTrhVN-tkbko"
      },
      "source": [
        "regressor.compile(optimizer = 'adam', loss='mse', metrics=['mae'])"
      ],
      "execution_count": null,
      "outputs": []
    },
    {
      "cell_type": "code",
      "metadata": {
        "colab": {
          "base_uri": "https://localhost:8080/"
        },
        "id": "inbJrW2eepeB",
        "outputId": "40d4ec92-3639-4725-b7a5-fccc37e5db6c"
      },
      "source": [
        "regressor.summary()"
      ],
      "execution_count": null,
      "outputs": [
        {
          "output_type": "stream",
          "text": [
            "Model: \"sequential_3\"\n",
            "_________________________________________________________________\n",
            "Layer (type)                 Output Shape              Param #   \n",
            "=================================================================\n",
            "lstm_12 (LSTM)               (None, 30, 96)            37632     \n",
            "_________________________________________________________________\n",
            "dropout_12 (Dropout)         (None, 30, 96)            0         \n",
            "_________________________________________________________________\n",
            "lstm_13 (LSTM)               (None, 30, 65)            42120     \n",
            "_________________________________________________________________\n",
            "dropout_13 (Dropout)         (None, 30, 65)            0         \n",
            "_________________________________________________________________\n",
            "lstm_14 (LSTM)               (None, 30, 55)            26620     \n",
            "_________________________________________________________________\n",
            "dropout_14 (Dropout)         (None, 30, 55)            0         \n",
            "_________________________________________________________________\n",
            "lstm_15 (LSTM)               (None, 34)                12240     \n",
            "_________________________________________________________________\n",
            "dropout_15 (Dropout)         (None, 34)                0         \n",
            "_________________________________________________________________\n",
            "dense_3 (Dense)              (None, 1)                 35        \n",
            "=================================================================\n",
            "Total params: 118,647\n",
            "Trainable params: 118,647\n",
            "Non-trainable params: 0\n",
            "_________________________________________________________________\n"
          ],
          "name": "stdout"
        }
      ]
    },
    {
      "cell_type": "markdown",
      "metadata": {
        "id": "LhVoUcCw55wB"
      },
      "source": [
        "**Fitting Data to Model**"
      ]
    },
    {
      "cell_type": "code",
      "metadata": {
        "colab": {
          "base_uri": "https://localhost:8080/"
        },
        "id": "-ZvZgyKk53hh",
        "outputId": "692eb141-b5a4-48e5-ddd0-647eae82c71c"
      },
      "source": [
        "history = regressor.fit(X_train, y_train, epochs = 100, batch_size = 32,validation_data=(X_validation, y_validation))"
      ],
      "execution_count": null,
      "outputs": [
        {
          "output_type": "stream",
          "text": [
            "Epoch 1/100\n",
            "30/30 [==============================] - 11s 137ms/step - loss: 0.0419 - mae: 0.1534 - val_loss: 0.0098 - val_mae: 0.0826\n",
            "Epoch 2/100\n",
            "30/30 [==============================] - 2s 73ms/step - loss: 0.0172 - mae: 0.0955 - val_loss: 0.0115 - val_mae: 0.0888\n",
            "Epoch 3/100\n",
            "30/30 [==============================] - 2s 74ms/step - loss: 0.0171 - mae: 0.0963 - val_loss: 0.0089 - val_mae: 0.0700\n",
            "Epoch 4/100\n",
            "30/30 [==============================] - 2s 74ms/step - loss: 0.0191 - mae: 0.0973 - val_loss: 0.0085 - val_mae: 0.0674\n",
            "Epoch 5/100\n",
            "30/30 [==============================] - 2s 75ms/step - loss: 0.0167 - mae: 0.0905 - val_loss: 0.0119 - val_mae: 0.0890\n",
            "Epoch 6/100\n",
            "30/30 [==============================] - 2s 74ms/step - loss: 0.0164 - mae: 0.0921 - val_loss: 0.0097 - val_mae: 0.0790\n",
            "Epoch 7/100\n",
            "30/30 [==============================] - 2s 74ms/step - loss: 0.0175 - mae: 0.0957 - val_loss: 0.0087 - val_mae: 0.0695\n",
            "Epoch 8/100\n",
            "30/30 [==============================] - 2s 74ms/step - loss: 0.0163 - mae: 0.0913 - val_loss: 0.0090 - val_mae: 0.0741\n",
            "Epoch 9/100\n",
            "30/30 [==============================] - 2s 73ms/step - loss: 0.0158 - mae: 0.0902 - val_loss: 0.0101 - val_mae: 0.0807\n",
            "Epoch 10/100\n",
            "30/30 [==============================] - 2s 73ms/step - loss: 0.0178 - mae: 0.0964 - val_loss: 0.0089 - val_mae: 0.0717\n",
            "Epoch 11/100\n",
            "30/30 [==============================] - 2s 72ms/step - loss: 0.0174 - mae: 0.0946 - val_loss: 0.0087 - val_mae: 0.0645\n",
            "Epoch 12/100\n",
            "30/30 [==============================] - 2s 74ms/step - loss: 0.0154 - mae: 0.0873 - val_loss: 0.0097 - val_mae: 0.0794\n",
            "Epoch 13/100\n",
            "30/30 [==============================] - 2s 74ms/step - loss: 0.0159 - mae: 0.0921 - val_loss: 0.0080 - val_mae: 0.0602\n",
            "Epoch 14/100\n",
            "30/30 [==============================] - 2s 74ms/step - loss: 0.0171 - mae: 0.0936 - val_loss: 0.0088 - val_mae: 0.0720\n",
            "Epoch 15/100\n",
            "30/30 [==============================] - 2s 73ms/step - loss: 0.0160 - mae: 0.0905 - val_loss: 0.0069 - val_mae: 0.0545\n",
            "Epoch 16/100\n",
            "30/30 [==============================] - 2s 73ms/step - loss: 0.0173 - mae: 0.0944 - val_loss: 0.0081 - val_mae: 0.0622\n",
            "Epoch 17/100\n",
            "30/30 [==============================] - 2s 74ms/step - loss: 0.0173 - mae: 0.0931 - val_loss: 0.0087 - val_mae: 0.0661\n",
            "Epoch 18/100\n",
            "30/30 [==============================] - 2s 75ms/step - loss: 0.0157 - mae: 0.0894 - val_loss: 0.0088 - val_mae: 0.0710\n",
            "Epoch 19/100\n",
            "30/30 [==============================] - 2s 73ms/step - loss: 0.0168 - mae: 0.0951 - val_loss: 0.0082 - val_mae: 0.0621\n",
            "Epoch 20/100\n",
            "30/30 [==============================] - 2s 74ms/step - loss: 0.0152 - mae: 0.0891 - val_loss: 0.0088 - val_mae: 0.0704\n",
            "Epoch 21/100\n",
            "30/30 [==============================] - 2s 74ms/step - loss: 0.0158 - mae: 0.0886 - val_loss: 0.0086 - val_mae: 0.0692\n",
            "Epoch 22/100\n",
            "30/30 [==============================] - 2s 74ms/step - loss: 0.0153 - mae: 0.0885 - val_loss: 0.0089 - val_mae: 0.0709\n",
            "Epoch 23/100\n",
            "30/30 [==============================] - 2s 74ms/step - loss: 0.0170 - mae: 0.0937 - val_loss: 0.0090 - val_mae: 0.0741\n",
            "Epoch 24/100\n",
            "30/30 [==============================] - 2s 74ms/step - loss: 0.0150 - mae: 0.0878 - val_loss: 0.0107 - val_mae: 0.0843\n",
            "Epoch 25/100\n",
            "30/30 [==============================] - 2s 74ms/step - loss: 0.0138 - mae: 0.0842 - val_loss: 0.0072 - val_mae: 0.0588\n",
            "Epoch 26/100\n",
            "30/30 [==============================] - 2s 75ms/step - loss: 0.0149 - mae: 0.0864 - val_loss: 0.0069 - val_mae: 0.0583\n",
            "Epoch 27/100\n",
            "30/30 [==============================] - 2s 74ms/step - loss: 0.0161 - mae: 0.0885 - val_loss: 0.0085 - val_mae: 0.0718\n",
            "Epoch 28/100\n",
            "30/30 [==============================] - 2s 73ms/step - loss: 0.0156 - mae: 0.0920 - val_loss: 0.0071 - val_mae: 0.0599\n",
            "Epoch 29/100\n",
            "30/30 [==============================] - 2s 75ms/step - loss: 0.0155 - mae: 0.0918 - val_loss: 0.0065 - val_mae: 0.0568\n",
            "Epoch 30/100\n",
            "30/30 [==============================] - 2s 73ms/step - loss: 0.0159 - mae: 0.0890 - val_loss: 0.0081 - val_mae: 0.0677\n",
            "Epoch 31/100\n",
            "30/30 [==============================] - 2s 74ms/step - loss: 0.0141 - mae: 0.0868 - val_loss: 0.0062 - val_mae: 0.0513\n",
            "Epoch 32/100\n",
            "30/30 [==============================] - 2s 74ms/step - loss: 0.0176 - mae: 0.0922 - val_loss: 0.0066 - val_mae: 0.0558\n",
            "Epoch 33/100\n",
            "30/30 [==============================] - 2s 73ms/step - loss: 0.0161 - mae: 0.0883 - val_loss: 0.0068 - val_mae: 0.0564\n",
            "Epoch 34/100\n",
            "30/30 [==============================] - 2s 74ms/step - loss: 0.0167 - mae: 0.0909 - val_loss: 0.0091 - val_mae: 0.0785\n",
            "Epoch 35/100\n",
            "30/30 [==============================] - 2s 75ms/step - loss: 0.0157 - mae: 0.0923 - val_loss: 0.0071 - val_mae: 0.0648\n",
            "Epoch 36/100\n",
            "30/30 [==============================] - 2s 75ms/step - loss: 0.0156 - mae: 0.0875 - val_loss: 0.0088 - val_mae: 0.0774\n",
            "Epoch 37/100\n",
            "30/30 [==============================] - 2s 74ms/step - loss: 0.0165 - mae: 0.0937 - val_loss: 0.0058 - val_mae: 0.0481\n",
            "Epoch 38/100\n",
            "30/30 [==============================] - 2s 74ms/step - loss: 0.0154 - mae: 0.0888 - val_loss: 0.0081 - val_mae: 0.0708\n",
            "Epoch 39/100\n",
            "30/30 [==============================] - 2s 74ms/step - loss: 0.0150 - mae: 0.0880 - val_loss: 0.0066 - val_mae: 0.0500\n",
            "Epoch 40/100\n",
            "30/30 [==============================] - 2s 74ms/step - loss: 0.0164 - mae: 0.0885 - val_loss: 0.0066 - val_mae: 0.0544\n",
            "Epoch 41/100\n",
            "30/30 [==============================] - 2s 74ms/step - loss: 0.0133 - mae: 0.0825 - val_loss: 0.0080 - val_mae: 0.0693\n",
            "Epoch 42/100\n",
            "30/30 [==============================] - 2s 75ms/step - loss: 0.0144 - mae: 0.0869 - val_loss: 0.0080 - val_mae: 0.0714\n",
            "Epoch 43/100\n",
            "30/30 [==============================] - 2s 75ms/step - loss: 0.0136 - mae: 0.0853 - val_loss: 0.0068 - val_mae: 0.0599\n",
            "Epoch 44/100\n",
            "30/30 [==============================] - 2s 75ms/step - loss: 0.0130 - mae: 0.0793 - val_loss: 0.0072 - val_mae: 0.0631\n",
            "Epoch 45/100\n",
            "30/30 [==============================] - 2s 74ms/step - loss: 0.0137 - mae: 0.0832 - val_loss: 0.0060 - val_mae: 0.0507\n",
            "Epoch 46/100\n",
            "30/30 [==============================] - 2s 73ms/step - loss: 0.0169 - mae: 0.0907 - val_loss: 0.0062 - val_mae: 0.0547\n",
            "Epoch 47/100\n",
            "30/30 [==============================] - 2s 73ms/step - loss: 0.0148 - mae: 0.0842 - val_loss: 0.0064 - val_mae: 0.0521\n",
            "Epoch 48/100\n",
            "30/30 [==============================] - 2s 74ms/step - loss: 0.0130 - mae: 0.0794 - val_loss: 0.0084 - val_mae: 0.0744\n",
            "Epoch 49/100\n",
            "30/30 [==============================] - 2s 75ms/step - loss: 0.0137 - mae: 0.0869 - val_loss: 0.0058 - val_mae: 0.0492\n",
            "Epoch 50/100\n",
            "30/30 [==============================] - 2s 75ms/step - loss: 0.0134 - mae: 0.0828 - val_loss: 0.0062 - val_mae: 0.0514\n",
            "Epoch 51/100\n",
            "30/30 [==============================] - 2s 74ms/step - loss: 0.0145 - mae: 0.0855 - val_loss: 0.0069 - val_mae: 0.0501\n",
            "Epoch 52/100\n",
            "30/30 [==============================] - 2s 74ms/step - loss: 0.0125 - mae: 0.0775 - val_loss: 0.0072 - val_mae: 0.0639\n",
            "Epoch 53/100\n",
            "30/30 [==============================] - 2s 74ms/step - loss: 0.0145 - mae: 0.0844 - val_loss: 0.0057 - val_mae: 0.0512\n",
            "Epoch 54/100\n",
            "30/30 [==============================] - 2s 74ms/step - loss: 0.0123 - mae: 0.0786 - val_loss: 0.0061 - val_mae: 0.0552\n",
            "Epoch 55/100\n",
            "30/30 [==============================] - 2s 75ms/step - loss: 0.0117 - mae: 0.0748 - val_loss: 0.0079 - val_mae: 0.0713\n",
            "Epoch 56/100\n",
            "30/30 [==============================] - 2s 74ms/step - loss: 0.0128 - mae: 0.0823 - val_loss: 0.0061 - val_mae: 0.0556\n",
            "Epoch 57/100\n",
            "30/30 [==============================] - 2s 75ms/step - loss: 0.0149 - mae: 0.0846 - val_loss: 0.0065 - val_mae: 0.0602\n",
            "Epoch 58/100\n",
            "30/30 [==============================] - 2s 74ms/step - loss: 0.0126 - mae: 0.0815 - val_loss: 0.0057 - val_mae: 0.0506\n",
            "Epoch 59/100\n",
            "30/30 [==============================] - 2s 74ms/step - loss: 0.0125 - mae: 0.0778 - val_loss: 0.0069 - val_mae: 0.0659\n",
            "Epoch 60/100\n",
            "30/30 [==============================] - 2s 74ms/step - loss: 0.0137 - mae: 0.0820 - val_loss: 0.0063 - val_mae: 0.0588\n",
            "Epoch 61/100\n",
            "30/30 [==============================] - 2s 74ms/step - loss: 0.0124 - mae: 0.0789 - val_loss: 0.0060 - val_mae: 0.0536\n",
            "Epoch 62/100\n",
            "30/30 [==============================] - 2s 74ms/step - loss: 0.0137 - mae: 0.0823 - val_loss: 0.0065 - val_mae: 0.0590\n",
            "Epoch 63/100\n",
            "30/30 [==============================] - 2s 74ms/step - loss: 0.0121 - mae: 0.0765 - val_loss: 0.0057 - val_mae: 0.0514\n",
            "Epoch 64/100\n",
            "30/30 [==============================] - 2s 75ms/step - loss: 0.0121 - mae: 0.0785 - val_loss: 0.0055 - val_mae: 0.0485\n",
            "Epoch 65/100\n",
            "30/30 [==============================] - 2s 74ms/step - loss: 0.0141 - mae: 0.0822 - val_loss: 0.0060 - val_mae: 0.0553\n",
            "Epoch 66/100\n",
            "30/30 [==============================] - 2s 74ms/step - loss: 0.0135 - mae: 0.0829 - val_loss: 0.0068 - val_mae: 0.0645\n",
            "Epoch 67/100\n",
            "30/30 [==============================] - 2s 75ms/step - loss: 0.0126 - mae: 0.0810 - val_loss: 0.0056 - val_mae: 0.0527\n",
            "Epoch 68/100\n",
            "30/30 [==============================] - 2s 74ms/step - loss: 0.0118 - mae: 0.0772 - val_loss: 0.0059 - val_mae: 0.0544\n",
            "Epoch 69/100\n",
            "30/30 [==============================] - 2s 74ms/step - loss: 0.0128 - mae: 0.0805 - val_loss: 0.0054 - val_mae: 0.0461\n",
            "Epoch 70/100\n",
            "30/30 [==============================] - 2s 74ms/step - loss: 0.0127 - mae: 0.0814 - val_loss: 0.0058 - val_mae: 0.0549\n",
            "Epoch 71/100\n",
            "30/30 [==============================] - 2s 74ms/step - loss: 0.0128 - mae: 0.0785 - val_loss: 0.0060 - val_mae: 0.0532\n",
            "Epoch 72/100\n",
            "30/30 [==============================] - 2s 75ms/step - loss: 0.0137 - mae: 0.0818 - val_loss: 0.0068 - val_mae: 0.0625\n",
            "Epoch 73/100\n",
            "30/30 [==============================] - 2s 73ms/step - loss: 0.0129 - mae: 0.0802 - val_loss: 0.0062 - val_mae: 0.0576\n",
            "Epoch 74/100\n",
            "30/30 [==============================] - 2s 74ms/step - loss: 0.0145 - mae: 0.0843 - val_loss: 0.0055 - val_mae: 0.0490\n",
            "Epoch 75/100\n",
            "30/30 [==============================] - 2s 76ms/step - loss: 0.0132 - mae: 0.0818 - val_loss: 0.0054 - val_mae: 0.0446\n",
            "Epoch 76/100\n",
            "30/30 [==============================] - 2s 75ms/step - loss: 0.0155 - mae: 0.0851 - val_loss: 0.0072 - val_mae: 0.0696\n",
            "Epoch 77/100\n",
            "30/30 [==============================] - 2s 74ms/step - loss: 0.0125 - mae: 0.0807 - val_loss: 0.0057 - val_mae: 0.0516\n",
            "Epoch 78/100\n",
            "30/30 [==============================] - 2s 75ms/step - loss: 0.0126 - mae: 0.0773 - val_loss: 0.0057 - val_mae: 0.0524\n",
            "Epoch 79/100\n",
            "30/30 [==============================] - 2s 74ms/step - loss: 0.0129 - mae: 0.0778 - val_loss: 0.0055 - val_mae: 0.0452\n",
            "Epoch 80/100\n",
            "30/30 [==============================] - 2s 75ms/step - loss: 0.0134 - mae: 0.0785 - val_loss: 0.0058 - val_mae: 0.0502\n",
            "Epoch 81/100\n",
            "30/30 [==============================] - 2s 74ms/step - loss: 0.0139 - mae: 0.0821 - val_loss: 0.0065 - val_mae: 0.0647\n",
            "Epoch 82/100\n",
            "30/30 [==============================] - 2s 74ms/step - loss: 0.0133 - mae: 0.0815 - val_loss: 0.0067 - val_mae: 0.0660\n",
            "Epoch 83/100\n",
            "30/30 [==============================] - 2s 74ms/step - loss: 0.0127 - mae: 0.0817 - val_loss: 0.0066 - val_mae: 0.0634\n",
            "Epoch 84/100\n",
            "30/30 [==============================] - 2s 76ms/step - loss: 0.0123 - mae: 0.0793 - val_loss: 0.0062 - val_mae: 0.0594\n",
            "Epoch 85/100\n",
            "30/30 [==============================] - 2s 75ms/step - loss: 0.0133 - mae: 0.0801 - val_loss: 0.0060 - val_mae: 0.0573\n",
            "Epoch 86/100\n",
            "30/30 [==============================] - 2s 75ms/step - loss: 0.0121 - mae: 0.0786 - val_loss: 0.0056 - val_mae: 0.0528\n",
            "Epoch 87/100\n",
            "30/30 [==============================] - 2s 75ms/step - loss: 0.0117 - mae: 0.0768 - val_loss: 0.0057 - val_mae: 0.0510\n",
            "Epoch 88/100\n",
            "30/30 [==============================] - 2s 75ms/step - loss: 0.0123 - mae: 0.0788 - val_loss: 0.0054 - val_mae: 0.0487\n",
            "Epoch 89/100\n",
            "30/30 [==============================] - 2s 75ms/step - loss: 0.0125 - mae: 0.0799 - val_loss: 0.0055 - val_mae: 0.0492\n",
            "Epoch 90/100\n",
            "30/30 [==============================] - 2s 75ms/step - loss: 0.0124 - mae: 0.0782 - val_loss: 0.0067 - val_mae: 0.0647\n",
            "Epoch 91/100\n",
            "30/30 [==============================] - 2s 73ms/step - loss: 0.0122 - mae: 0.0804 - val_loss: 0.0058 - val_mae: 0.0529\n",
            "Epoch 92/100\n",
            "30/30 [==============================] - 2s 75ms/step - loss: 0.0125 - mae: 0.0779 - val_loss: 0.0054 - val_mae: 0.0514\n",
            "Epoch 93/100\n",
            "30/30 [==============================] - 2s 75ms/step - loss: 0.0124 - mae: 0.0777 - val_loss: 0.0054 - val_mae: 0.0503\n",
            "Epoch 94/100\n",
            "30/30 [==============================] - 2s 75ms/step - loss: 0.0132 - mae: 0.0784 - val_loss: 0.0063 - val_mae: 0.0609\n",
            "Epoch 95/100\n",
            "30/30 [==============================] - 2s 75ms/step - loss: 0.0130 - mae: 0.0815 - val_loss: 0.0056 - val_mae: 0.0531\n",
            "Epoch 96/100\n",
            "30/30 [==============================] - 2s 76ms/step - loss: 0.0110 - mae: 0.0759 - val_loss: 0.0059 - val_mae: 0.0548\n",
            "Epoch 97/100\n",
            "30/30 [==============================] - 2s 75ms/step - loss: 0.0129 - mae: 0.0803 - val_loss: 0.0058 - val_mae: 0.0568\n",
            "Epoch 98/100\n",
            "30/30 [==============================] - 2s 75ms/step - loss: 0.0118 - mae: 0.0775 - val_loss: 0.0056 - val_mae: 0.0511\n",
            "Epoch 99/100\n",
            "30/30 [==============================] - 2s 75ms/step - loss: 0.0161 - mae: 0.0863 - val_loss: 0.0057 - val_mae: 0.0539\n",
            "Epoch 100/100\n",
            "30/30 [==============================] - 2s 75ms/step - loss: 0.0133 - mae: 0.0807 - val_loss: 0.0052 - val_mae: 0.0464\n"
          ],
          "name": "stdout"
        }
      ]
    },
    {
      "cell_type": "markdown",
      "metadata": {
        "id": "1yrEnf1S1N6_"
      },
      "source": [
        "**Preparing Test Dataset**"
      ]
    },
    {
      "cell_type": "code",
      "metadata": {
        "id": "emikTvUpk3Ck"
      },
      "source": [
        "inputs = test_set_scaled\n",
        "X_test = []\n",
        "y_test = []\n",
        "for i in range(30, 127):\n",
        "    X_test.append(inputs[i-30:i, 0])\n",
        "    y_test.append(inputs[i, 0])\n",
        "X_test = np.array(X_test)\n",
        "y_test = np.array(y_test)\n",
        "X_test = np.reshape(X_test, (X_test.shape[0], X_test.shape[1], 1))\n"
      ],
      "execution_count": null,
      "outputs": []
    },
    {
      "cell_type": "code",
      "metadata": {
        "colab": {
          "base_uri": "https://localhost:8080/"
        },
        "id": "JQ758pmEw-dN",
        "outputId": "31f501ab-b4a1-4787-e2f3-051a898d1116"
      },
      "source": [
        "X_test.shape"
      ],
      "execution_count": null,
      "outputs": [
        {
          "output_type": "execute_result",
          "data": {
            "text/plain": [
              "(97, 30, 1)"
            ]
          },
          "metadata": {
            "tags": []
          },
          "execution_count": 147
        }
      ]
    },
    {
      "cell_type": "markdown",
      "metadata": {
        "id": "UV8PS2gQ1DNi"
      },
      "source": [
        "##**Making the predictions and visualising the results**"
      ]
    },
    {
      "cell_type": "markdown",
      "metadata": {
        "id": "o8FWzFSLIKxu"
      },
      "source": [
        "### **Getting the predicted stock volume**"
      ]
    },
    {
      "cell_type": "code",
      "metadata": {
        "id": "O5ufDx2-aouq"
      },
      "source": [
        "predicted_value = regressor.predict(X_test)  \n",
        "predicted_stock_volume = sc.inverse_transform(predicted_value)"
      ],
      "execution_count": null,
      "outputs": []
    },
    {
      "cell_type": "markdown",
      "metadata": {
        "id": "W71P9Ztf7aAH"
      },
      "source": [
        "**Fixing 1-lag transform of the sequence**"
      ]
    },
    {
      "cell_type": "code",
      "metadata": {
        "colab": {
          "base_uri": "https://localhost:8080/"
        },
        "id": "fTuco5q94JV-",
        "outputId": "76195614-d919-42a3-e1dc-69cda47cc241"
      },
      "source": [
        "predicted_stock_volume.shape"
      ],
      "execution_count": null,
      "outputs": [
        {
          "output_type": "execute_result",
          "data": {
            "text/plain": [
              "(97, 1)"
            ]
          },
          "metadata": {
            "tags": []
          },
          "execution_count": 149
        }
      ]
    },
    {
      "cell_type": "markdown",
      "metadata": {
        "id": "ruUS7pgHEQyz"
      },
      "source": [
        "**shift the values in array from last point and repace that last point of value with last value of array** "
      ]
    },
    {
      "cell_type": "code",
      "metadata": {
        "id": "xXnV_Qw3eFAH"
      },
      "source": [
        "from scipy.ndimage.interpolation import shift\n",
        "\n",
        "predicted_stock_volume = predicted_stock_volume.ravel()\n",
        "array_length = len(predicted_stock_volume)\n",
        "last_element = predicted_stock_volume[array_length - 1]\n",
        "predicted_stock_volume = shift(predicted_stock_volume, -1, cval=last_element)\n",
        "predicted_stock_volume = np.reshape(predicted_stock_volume,(predicted_stock_volume.shape[0], 1))\n"
      ],
      "execution_count": null,
      "outputs": []
    },
    {
      "cell_type": "code",
      "metadata": {
        "colab": {
          "base_uri": "https://localhost:8080/"
        },
        "id": "rDGDfYZlEwfR",
        "outputId": "7572cf07-4bd1-436e-e412-c966c363a067"
      },
      "source": [
        "predicted_stock_volume.shape"
      ],
      "execution_count": null,
      "outputs": [
        {
          "output_type": "execute_result",
          "data": {
            "text/plain": [
              "(87, 1)"
            ]
          },
          "metadata": {
            "tags": []
          },
          "execution_count": 124
        }
      ]
    },
    {
      "cell_type": "code",
      "metadata": {
        "id": "1r8cBQz42eBZ"
      },
      "source": [
        "stock_volume = y_test.reshape(-1,1)\n",
        "real_stock_volume = sc.inverse_transform(stock_volume)"
      ],
      "execution_count": null,
      "outputs": []
    },
    {
      "cell_type": "code",
      "metadata": {
        "id": "W4N6FkBpDmNA"
      },
      "source": [
        "print(real_stock_volume)"
      ],
      "execution_count": null,
      "outputs": []
    },
    {
      "cell_type": "markdown",
      "metadata": {
        "id": "Yvw-EB_l7mrS"
      },
      "source": [
        "### **Evaluating Model performance in diffrence perceptions**"
      ]
    },
    {
      "cell_type": "markdown",
      "metadata": {
        "id": "okCMREaCIiyI"
      },
      "source": [
        "####**Evaluate the model for 100 epochs and 50 timesteps**"
      ]
    },
    {
      "cell_type": "markdown",
      "metadata": {
        "id": "7uSdR6b4BdOL"
      },
      "source": [
        "**Before Fixing 1-lag transform of the sequence**"
      ]
    },
    {
      "cell_type": "code",
      "metadata": {
        "colab": {
          "base_uri": "https://localhost:8080/"
        },
        "id": "cuq6VCL1Ti5O",
        "outputId": "f825c5e6-322a-4836-9676-b23c8ed5982f"
      },
      "source": [
        "\n",
        "from numpy import sqrt\n",
        "mse, mae = regressor.evaluate(X_test, y_test, verbose=0)\n",
        "print('MSE: %.3f, RMSE: %.3f, MAE: %.3f' % (mse, sqrt(mse), mae))"
      ],
      "execution_count": null,
      "outputs": [
        {
          "output_type": "stream",
          "text": [
            "MSE: 0.004, RMSE: 0.066, MAE: 0.048\n"
          ],
          "name": "stdout"
        }
      ]
    },
    {
      "cell_type": "code",
      "metadata": {
        "colab": {
          "base_uri": "https://localhost:8080/"
        },
        "id": "jjaaIC_3FHFq",
        "outputId": "c9042ad6-c6fb-41b3-92f9-c36dcfee8abb"
      },
      "source": [
        "from sklearn.metrics import r2_score\n",
        "\n",
        "print('R2 Score: ', r2_score(real_stock_volume, predicted_stock_volume))\n",
        "print('')\n",
        "print('R2 Score: ', r2_score(stock_volume, predicted_value))"
      ],
      "execution_count": null,
      "outputs": [
        {
          "output_type": "stream",
          "text": [
            "R2 Score:  0.2266817793371212\n",
            "\n",
            "R2 Score:  0.2266817528952294\n"
          ],
          "name": "stdout"
        }
      ]
    },
    {
      "cell_type": "markdown",
      "metadata": {
        "id": "rW2WD9310dqU"
      },
      "source": [
        " **Note :** When we observe the R2 Score it had 22.66% accurracy which is very low. Need fine tune model or check for issues. "
      ]
    },
    {
      "cell_type": "markdown",
      "metadata": {
        "id": "r7xeMI657ylI"
      },
      "source": [
        "**After Fixing 1-lag transform of the sequence**"
      ]
    },
    {
      "cell_type": "code",
      "metadata": {
        "colab": {
          "base_uri": "https://localhost:8080/"
        },
        "id": "eG4WSp4j8Dmz",
        "outputId": "69c56ce1-c368-4094-93a7-4a1e657b9e5a"
      },
      "source": [
        "from numpy import sqrt\n",
        "from sklearn.metrics import r2_score\n",
        "\n",
        "# mse, mae = regressor.evaluate(X_test, y_test, verbose=0)\n",
        "# print('MSE: %.3f, RMSE: %.3f, MAE: %.3f' % (mse, sqrt(mse), mae))\n",
        "\n",
        "d = real_stock_volume - predicted_stock_volume\n",
        "mse = np.mean(d**2)\n",
        "mae = np.mean(abs(d))\n",
        "\n",
        "print('MSE: %.3f, RMSE: %.3f, MAE: %.3f' % (mse, sqrt(mse), mae))\n",
        "print('')\n",
        "print('R2 Score: ', r2_score(real_stock_volume, predicted_stock_volume))\n",
        "print('')\n",
        "print('R2 Score: ', r2_score(stock_volume, predicted_value))"
      ],
      "execution_count": null,
      "outputs": [
        {
          "output_type": "stream",
          "text": [
            "MSE: 99696452131.470, RMSE: 315747.450, MAE: 213090.209\n",
            "\n",
            "R2 Score:  0.8113194498033985\n",
            "\n",
            "R2 Score:  0.2520010330020507\n"
          ],
          "name": "stdout"
        }
      ]
    },
    {
      "cell_type": "markdown",
      "metadata": {
        "id": "kupljmOp8WI2"
      },
      "source": [
        "**Note :** After fixing issue of 1-lag transform of the sequence we got accuracy of 81.13% . But as we didnt change fix 1-lag issue in scaled data we can see the accuracy for that is 25.20%. So we can conclude that after fixing 1-lag issue accuracy of model with 100 epoch and 50 timesteps increase by 55.93%"
      ]
    },
    {
      "cell_type": "markdown",
      "metadata": {
        "id": "_aWCyoD8eIl3"
      },
      "source": [
        "####**Evaluate the model for 100 epochs and 40 timesteps**"
      ]
    },
    {
      "cell_type": "markdown",
      "metadata": {
        "id": "UxA2l1TwBkAR"
      },
      "source": [
        "**Before Fixing 1-lag transform of the sequence**"
      ]
    },
    {
      "cell_type": "code",
      "metadata": {
        "colab": {
          "base_uri": "https://localhost:8080/"
        },
        "id": "J4uyyUd0eIOY",
        "outputId": "57227fb6-95ef-4a3a-cc82-c4c97ea21ffd"
      },
      "source": [
        "from numpy import sqrt\n",
        "mse, mae = regressor.evaluate(X_test, y_test, verbose=0)\n",
        "print('MSE: %.3f, RMSE: %.3f, MAE: %.3f' % (mse, sqrt(mse), mae))"
      ],
      "execution_count": null,
      "outputs": [
        {
          "output_type": "stream",
          "text": [
            "MSE: 0.004, RMSE: 0.062, MAE: 0.043\n"
          ],
          "name": "stdout"
        }
      ]
    },
    {
      "cell_type": "code",
      "metadata": {
        "colab": {
          "base_uri": "https://localhost:8080/"
        },
        "id": "FVeyWGWNeNs0",
        "outputId": "424e4a53-1766-4f60-c15f-2502e463cf0c"
      },
      "source": [
        "from sklearn.metrics import r2_score\n",
        "\n",
        "print('R2 Score: ', r2_score(real_stock_volume, predicted_stock_volume))\n",
        "print('')\n",
        "print('R2 Score: ', r2_score(stock_volume, predicted_value))"
      ],
      "execution_count": null,
      "outputs": [
        {
          "output_type": "stream",
          "text": [
            "R2 Score:  0.26572243029176523\n",
            "\n",
            "R2 Score:  0.26572244001043244\n"
          ],
          "name": "stdout"
        }
      ]
    },
    {
      "cell_type": "markdown",
      "metadata": {
        "id": "no87ai5iCFHM"
      },
      "source": [
        "**After Fixing 1-lag transform of the sequence**"
      ]
    },
    {
      "cell_type": "code",
      "metadata": {
        "colab": {
          "base_uri": "https://localhost:8080/"
        },
        "id": "h_C0WHRoCK1j",
        "outputId": "ef84bdd7-425f-4544-c918-bd24a6544f31"
      },
      "source": [
        "from numpy import sqrt\n",
        "from sklearn.metrics import r2_score\n",
        "\n",
        "# mse, mae = regressor.evaluate(X_test, y_test, verbose=0)\n",
        "# print('MSE: %.3f, RMSE: %.3f, MAE: %.3f' % (mse, sqrt(mse), mae))\n",
        "\n",
        "d = real_stock_volume - predicted_stock_volume\n",
        "mse = np.mean(d**2)\n",
        "mae = np.mean(abs(d))\n",
        "\n",
        "print('MSE: %.3f, RMSE: %.3f, MAE: %.3f' % (mse, sqrt(mse), mae))\n",
        "print('')\n",
        "print('R2 Score: ', r2_score(real_stock_volume, predicted_stock_volume))\n",
        "print('')\n",
        "print('R2 Score: ', r2_score(stock_volume, predicted_value))"
      ],
      "execution_count": null,
      "outputs": [
        {
          "output_type": "stream",
          "text": [
            "MSE: 119892307813.247, RMSE: 346254.686, MAE: 244835.437\n",
            "\n",
            "R2 Score:  0.7594437077291704\n",
            "\n",
            "R2 Score:  0.1883833956672405\n"
          ],
          "name": "stdout"
        }
      ]
    },
    {
      "cell_type": "markdown",
      "metadata": {
        "id": "sKFVoqs_FV10"
      },
      "source": [
        "**Note :** After fixing issue of 1-lag transform of the sequence we got accuracy of 75.94% . But as we didnt change fix 1-lag issue in scaled data we can see the accuracy for that is 18.83%. So we can conclude that after fixing 1-lag issue accuracy of model with 100 epoch and 40 timesteps increase by 57.11%"
      ]
    },
    {
      "cell_type": "markdown",
      "metadata": {
        "id": "upWrCf0_hSW5"
      },
      "source": [
        "####**Evaluate the model for 100 epochs and 30 timesteps**"
      ]
    },
    {
      "cell_type": "markdown",
      "metadata": {
        "id": "JrgR8sH2F560"
      },
      "source": [
        "**Before Fixing 1-lag transform of the sequence**"
      ]
    },
    {
      "cell_type": "code",
      "metadata": {
        "colab": {
          "base_uri": "https://localhost:8080/"
        },
        "id": "vFycK5xvhUbh",
        "outputId": "df4d190e-4604-48dd-c275-948b7fd62f19"
      },
      "source": [
        "from numpy import sqrt\n",
        "mse, mae = regressor.evaluate(X_test, y_test, verbose=0)\n",
        "print('MSE: %.3f, RMSE: %.3f, MAE: %.3f' % (mse, sqrt(mse), mae))"
      ],
      "execution_count": null,
      "outputs": [
        {
          "output_type": "stream",
          "text": [
            "MSE: 0.004, RMSE: 0.062, MAE: 0.043\n"
          ],
          "name": "stdout"
        }
      ]
    },
    {
      "cell_type": "code",
      "metadata": {
        "colab": {
          "base_uri": "https://localhost:8080/"
        },
        "id": "PuBllDdRhXcr",
        "outputId": "f79c3701-4f00-42d6-fde1-1a44df10a813"
      },
      "source": [
        "from sklearn.metrics import r2_score\n",
        "\n",
        "print('R2 Score: ', r2_score(real_stock_volume, predicted_stock_volume))\n",
        "print('')\n",
        "print('R2 Score: ', r2_score(stock_volume, predicted_value))"
      ],
      "execution_count": null,
      "outputs": [
        {
          "output_type": "stream",
          "text": [
            "R2 Score:  0.26572243029176523\n",
            "\n",
            "R2 Score:  0.26572244001043244\n"
          ],
          "name": "stdout"
        }
      ]
    },
    {
      "cell_type": "markdown",
      "metadata": {
        "id": "-6GkkenGF3Hk"
      },
      "source": [
        "**After Fixing 1-lag transform of the sequence**"
      ]
    },
    {
      "cell_type": "code",
      "metadata": {
        "colab": {
          "base_uri": "https://localhost:8080/"
        },
        "id": "bw4THoWtF-P8",
        "outputId": "57cc9acf-6de2-46fe-e880-b4ee106c17e5"
      },
      "source": [
        "from numpy import sqrt\n",
        "from sklearn.metrics import r2_score\n",
        "\n",
        "# mse, mae = regressor.evaluate(X_test, y_test, verbose=0)\n",
        "# print('MSE: %.3f, RMSE: %.3f, MAE: %.3f' % (mse, sqrt(mse), mae))\n",
        "\n",
        "d = real_stock_volume - predicted_stock_volume\n",
        "mse = np.mean(d**2)\n",
        "mae = np.mean(abs(d))\n",
        "\n",
        "print('MSE: %.3f, RMSE: %.3f, MAE: %.3f' % (mse, sqrt(mse), mae))\n",
        "print('')\n",
        "print('R2 Score: ', r2_score(real_stock_volume, predicted_stock_volume))\n",
        "print('')\n",
        "print('R2 Score: ', r2_score(stock_volume, predicted_value))"
      ],
      "execution_count": null,
      "outputs": [
        {
          "output_type": "stream",
          "text": [
            "MSE: 92912440336.196, RMSE: 304815.420, MAE: 197445.470\n",
            "\n",
            "R2 Score:  0.80945283637062\n",
            "\n",
            "R2 Score:  0.2746503347466841\n"
          ],
          "name": "stdout"
        }
      ]
    },
    {
      "cell_type": "markdown",
      "metadata": {
        "id": "HTlMkWTaH1N3"
      },
      "source": [
        "**Note :** After fixing issue of 1-lag transform of the sequence we got accuracy of 80.94% . But as we didnt change fix 1-lag issue in scaled data we can see the accuracy for that is 27.46%. So we can conclude that after fixing 1-lag issue accuracy of model with 100 epoch and 30 timesteps increase by 53.48%"
      ]
    },
    {
      "cell_type": "markdown",
      "metadata": {
        "id": "WPxhn0qdIJqT"
      },
      "source": [
        "**Conclusion** : Model for 100 epochs and 50 timesteps after fixing the 1-lag issue gives the higest accuracy as  81.13% as R2 Score "
      ]
    },
    {
      "cell_type": "markdown",
      "metadata": {
        "id": "iFTNs3YHk6FQ"
      },
      "source": [
        "### **Visualising the results**"
      ]
    },
    {
      "cell_type": "markdown",
      "metadata": {
        "id": "3ATR_MkB9qwa"
      },
      "source": [
        "####**Real Stock Volume VS Predicted Stock Volume line charts**"
      ]
    },
    {
      "cell_type": "markdown",
      "metadata": {
        "id": "vXJi9OjVIq4k"
      },
      "source": [
        "##### **For 50 timesteps**"
      ]
    },
    {
      "cell_type": "markdown",
      "metadata": {
        "id": "nmlKZrGp9-C1"
      },
      "source": [
        "######**Before changing the LSTM Network Compostion**"
      ]
    },
    {
      "cell_type": "code",
      "metadata": {
        "id": "8OUI8U49k9tH",
        "colab": {
          "base_uri": "https://localhost:8080/"
        },
        "outputId": "bd9a156d-3096-4f14-979d-80b561e972ee"
      },
      "source": [
        "plt.plot(real_stock_volume, color = 'red', label = 'Real Stock Volume')\n",
        "plt.plot(predicted_stock_volume, color = 'blue', label = 'Predicted Stock Volume')\n",
        "plt.title('Google Real Stock Volume VS Predicted Stock Volume for 100 epoch ')\n",
        "plt.xlabel('Time')\n",
        "plt.ylabel('Google Stock volume')\n",
        "plt.legend()\n",
        "plt.show()"
      ],
      "execution_count": null,
      "outputs": [
        {
          "output_type": "display_data",
          "data": {
            "image/png": "[encoded data removed]",
            "text/plain": [
              "<Figure size 432x288 with 1 Axes>"
            ]
          },
          "metadata": {
            "tags": [],
            "needs_background": "light"
          }
        }
      ]
    },
    {
      "cell_type": "markdown",
      "metadata": {
        "id": "FRpx1gdK-QLb"
      },
      "source": [
        "######**After changing the LSTM Network Compostion**"
      ]
    },
    {
      "cell_type": "markdown",
      "metadata": {
        "id": "I3MTTRe9-kls"
      },
      "source": [
        "**Before Fixing 1-lag transform of the sequence**"
      ]
    },
    {
      "cell_type": "code",
      "metadata": {
        "colab": {
          "base_uri": "https://localhost:8080/"
        },
        "id": "ulcVR8BAyosB",
        "outputId": "97abdbe6-b4c8-463a-e893-c5b550da7ab7"
      },
      "source": [
        "plt.plot(real_stock_volume, color = 'red', label = 'Real Stock Volume')\n",
        "plt.plot(predicted_stock_volume, color = 'blue', label = 'Predicted Stock Volume')\n",
        "plt.title('Google Real Stock Volume VS Predicted Stock Volume for 100 epoch ')\n",
        "plt.xlabel('Time')\n",
        "plt.ylabel('Google Stock volume')\n",
        "plt.legend()\n",
        "plt.show()"
      ],
      "execution_count": null,
      "outputs": [
        {
          "output_type": "display_data",
          "data": {
            "image/png": "[encoded data removed]",
            "text/plain": [
              "<Figure size 432x288 with 1 Axes>"
            ]
          },
          "metadata": {
            "tags": [],
            "needs_background": "light"
          }
        }
      ]
    },
    {
      "cell_type": "markdown",
      "metadata": {
        "id": "NlfsBMoA7GzU"
      },
      "source": [
        "**After Fixing 1-lag transform of the sequence**"
      ]
    },
    {
      "cell_type": "code",
      "metadata": {
        "id": "JLEXl6KU2Ll5",
        "colab": {
          "base_uri": "https://localhost:8080/",
          "height": 295
        },
        "outputId": "f847f35f-a7cf-446a-d6fd-48cbe3772f34"
      },
      "source": [
        "plt.plot(real_stock_volume, color = 'red', label = 'Real Stock Volume')\n",
        "plt.plot(predicted_stock_volume, color = 'blue', label = 'Predicted Stock Volume')\n",
        "plt.title('Google Real Stock Volume VS Predicted Stock Volume for 100 epoch ')\n",
        "plt.xlabel('Time')\n",
        "plt.ylabel('Google Stock volume')\n",
        "plt.legend()\n",
        "plt.show()"
      ],
      "execution_count": null,
      "outputs": [
        {
          "output_type": "display_data",
          "data": {
            "image/png": "[encoded data removed]",
            "text/plain": [
              "<Figure size 432x288 with 1 Axes>"
            ]
          },
          "metadata": {
            "tags": [],
            "needs_background": "light"
          }
        }
      ]
    },
    {
      "cell_type": "markdown",
      "metadata": {
        "id": "csZIf7koeYJ2"
      },
      "source": [
        "#####**For 40 timesteps**"
      ]
    },
    {
      "cell_type": "markdown",
      "metadata": {
        "id": "WjmhHHpEBG9d"
      },
      "source": [
        "**Before Fixing 1-lag transform of the sequence**"
      ]
    },
    {
      "cell_type": "code",
      "metadata": {
        "colab": {
          "base_uri": "https://localhost:8080/"
        },
        "id": "oy4rEjt6ebBU",
        "outputId": "5963b0b9-3035-4c70-ed1d-ed278273f24d"
      },
      "source": [
        "plt.plot(real_stock_volume, color = 'red', label = 'Real Stock Volume')\n",
        "plt.plot(predicted_stock_volume, color = 'blue', label = 'Predicted Stock Volume')\n",
        "plt.title('Google Real Stock Volume VS Predicted Stock Volume for 100 epoch ')\n",
        "plt.xlabel('Time')\n",
        "plt.ylabel('Google Stock volume')\n",
        "plt.legend()\n",
        "plt.show()"
      ],
      "execution_count": null,
      "outputs": [
        {
          "output_type": "display_data",
          "data": {
            "image/png": "[encoded data removed]",
            "text/plain": [
              "<Figure size 432x288 with 1 Axes>"
            ]
          },
          "metadata": {
            "tags": [],
            "needs_background": "light"
          }
        }
      ]
    },
    {
      "cell_type": "markdown",
      "metadata": {
        "id": "pi3gbBcFBLU6"
      },
      "source": [
        "**After Fixing 1-lag transform of the sequence**"
      ]
    },
    {
      "cell_type": "code",
      "metadata": {
        "colab": {
          "base_uri": "https://localhost:8080/",
          "height": 295
        },
        "id": "w0CPOxZcBNH1",
        "outputId": "7908fea2-2ade-464b-d566-467d8ed70f99"
      },
      "source": [
        "plt.plot(real_stock_volume, color = 'red', label = 'Real Stock Volume')\n",
        "plt.plot(predicted_stock_volume, color = 'blue', label = 'Predicted Stock Volume')\n",
        "plt.title('Google Real Stock Volume VS Predicted Stock Volume for 100 epoch ')\n",
        "plt.xlabel('Time')\n",
        "plt.ylabel('Google Stock volume')\n",
        "plt.legend()\n",
        "plt.show()"
      ],
      "execution_count": null,
      "outputs": [
        {
          "output_type": "display_data",
          "data": {
            "image/png": "[encoded data removed]",
            "text/plain": [
              "<Figure size 432x288 with 1 Axes>"
            ]
          },
          "metadata": {
            "tags": [],
            "needs_background": "light"
          }
        }
      ]
    },
    {
      "cell_type": "markdown",
      "metadata": {
        "id": "wt-NXyohhGaA"
      },
      "source": [
        "#####**For 30 timesteps**"
      ]
    },
    {
      "cell_type": "markdown",
      "metadata": {
        "id": "3dltKCTOGDYJ"
      },
      "source": [
        "**Before Fixing 1-lag transform of the sequence**"
      ]
    },
    {
      "cell_type": "code",
      "metadata": {
        "colab": {
          "base_uri": "https://localhost:8080/"
        },
        "id": "Kw0_LxxKhMCM",
        "outputId": "81f69e6d-46ad-4bc3-be04-8ba849b787c1"
      },
      "source": [
        "plt.plot(real_stock_volume, color = 'red', label = 'Real Stock Volume')\n",
        "plt.plot(predicted_stock_volume, color = 'blue', label = 'Predicted Stock Volume')\n",
        "plt.title('Google Real Stock Volume VS Predicted Stock Volume for 100 epoch ')\n",
        "plt.xlabel('Time')\n",
        "plt.ylabel('Google Stock volume')\n",
        "plt.legend()\n",
        "plt.show()"
      ],
      "execution_count": null,
      "outputs": [
        {
          "output_type": "display_data",
          "data": {
            "image/png": "[encoded data removed]",
            "text/plain": [
              "<Figure size 432x288 with 1 Axes>"
            ]
          },
          "metadata": {
            "tags": [],
            "needs_background": "light"
          }
        }
      ]
    },
    {
      "cell_type": "markdown",
      "metadata": {
        "id": "xgPq456SGH3g"
      },
      "source": [
        "**After Fixing 1-lag transform of the sequence**"
      ]
    },
    {
      "cell_type": "code",
      "metadata": {
        "colab": {
          "base_uri": "https://localhost:8080/",
          "height": 295
        },
        "id": "gkKYVNtdGJ5d",
        "outputId": "7a3ac020-6d90-4f02-d6b2-799067cf9bad"
      },
      "source": [
        "plt.plot(real_stock_volume, color = 'red', label = 'Real Stock Volume')\n",
        "plt.plot(predicted_stock_volume, color = 'blue', label = 'Predicted Stock Volume')\n",
        "plt.title('Google Real Stock Volume VS Predicted Stock Volume for 100 epoch ')\n",
        "plt.xlabel('Time')\n",
        "plt.ylabel('Google Stock volume')\n",
        "plt.legend()\n",
        "plt.show()"
      ],
      "execution_count": null,
      "outputs": [
        {
          "output_type": "display_data",
          "data": {
            "image/png": "[encoded data removed]",
            "text/plain": [
              "<Figure size 432x288 with 1 Axes>"
            ]
          },
          "metadata": {
            "tags": [],
            "needs_background": "light"
          }
        }
      ]
    },
    {
      "cell_type": "markdown",
      "metadata": {
        "id": "cAmhz2hp9aah"
      },
      "source": [
        "####**Learning Curves**"
      ]
    },
    {
      "cell_type": "markdown",
      "metadata": {
        "id": "6zB7cp0-Iyyc"
      },
      "source": [
        "**Learning Curves for 50 timesteps**"
      ]
    },
    {
      "cell_type": "code",
      "metadata": {
        "colab": {
          "base_uri": "https://localhost:8080/"
        },
        "id": "7iKWu-jOaNIh",
        "outputId": "a5bd17f9-9941-4216-c747-14ac39c02693"
      },
      "source": [
        "from matplotlib import pyplot\n",
        "# plot learning curves\n",
        "pyplot.title('Learning Curves')\n",
        "pyplot.xlabel('Epoch')\n",
        "pyplot.ylabel('Root Mean Squared Error')\n",
        "pyplot.plot(history.history['loss'], label='train')\n",
        "pyplot.plot(history.history['val_loss'], label='val')\n",
        "pyplot.legend()\n",
        "pyplot.show()"
      ],
      "execution_count": null,
      "outputs": [
        {
          "output_type": "display_data",
          "data": {
            "image/png": "[encoded data removed]",
            "text/plain": [
              "<Figure size 432x288 with 1 Axes>"
            ]
          },
          "metadata": {
            "tags": [],
            "needs_background": "light"
          }
        }
      ]
    },
    {
      "cell_type": "markdown",
      "metadata": {
        "id": "0XwyVZtCeoyO"
      },
      "source": [
        "**Learning Curves for 40 timesteps**"
      ]
    },
    {
      "cell_type": "code",
      "metadata": {
        "colab": {
          "base_uri": "https://localhost:8080/"
        },
        "id": "LnWyXrtreqw_",
        "outputId": "bca54215-3572-48ec-b14c-1a245df6892b"
      },
      "source": [
        "pyplot.title('Learning Curves for 100 epoch ')\n",
        "pyplot.xlabel('Epoch')\n",
        "pyplot.ylabel('Root Mean Squared Error')\n",
        "pyplot.plot(history.history['loss'], label='train')\n",
        "pyplot.plot(history.history['val_loss'], label='val')\n",
        "pyplot.legend()\n",
        "pyplot.show()"
      ],
      "execution_count": null,
      "outputs": [
        {
          "output_type": "display_data",
          "data": {
            "image/png": "[encoded data removed]",
            "text/plain": [
              "<Figure size 432x288 with 1 Axes>"
            ]
          },
          "metadata": {
            "tags": [],
            "needs_background": "light"
          }
        }
      ]
    },
    {
      "cell_type": "markdown",
      "metadata": {
        "id": "H_vWgF-5g-fc"
      },
      "source": [
        "**Learning Curves for 30 timesteps**"
      ]
    },
    {
      "cell_type": "code",
      "metadata": {
        "colab": {
          "base_uri": "https://localhost:8080/"
        },
        "id": "tB-KV518hAGe",
        "outputId": "107124b6-b2ed-43ef-f4f4-3c5c931b6e91"
      },
      "source": [
        "pyplot.title('Learning Curves for 100 epoch ')\n",
        "pyplot.xlabel('Epoch')\n",
        "pyplot.ylabel('Root Mean Squared Error')\n",
        "pyplot.plot(history.history['loss'], label='train')\n",
        "pyplot.plot(history.history['val_loss'], label='val')\n",
        "pyplot.legend()\n",
        "pyplot.show()"
      ],
      "execution_count": null,
      "outputs": [
        {
          "output_type": "display_data",
          "data": {
            "image/png": "[encoded data removed]",
            "text/plain": [
              "<Figure size 432x288 with 1 Axes>"
            ]
          },
          "metadata": {
            "tags": [],
            "needs_background": "light"
          }
        }
      ]
    }
  ]
}